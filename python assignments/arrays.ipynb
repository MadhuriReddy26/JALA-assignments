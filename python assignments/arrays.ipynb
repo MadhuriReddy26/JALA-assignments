{
 "cells": [
  {
   "cell_type": "code",
   "execution_count": 3,
   "id": "9cc6b1bf-2ac9-4c21-894f-9958066bbe18",
   "metadata": {},
   "outputs": [
    {
     "name": "stdout",
     "output_type": "stream",
     "text": [
      "10\n"
     ]
    }
   ],
   "source": [
    "#1.Write a function to add integer values of an array\n",
    "def sum_arr(l):\n",
    "    return sum(l)\n",
    "l=[1,2,3,4]\n",
    "ob=sum_arr(l)\n",
    "print(ob)"
   ]
  },
  {
   "cell_type": "code",
   "execution_count": 5,
   "id": "f1cb91f7-6f2d-480e-9b61-d7410816d775",
   "metadata": {},
   "outputs": [
    {
     "name": "stdout",
     "output_type": "stream",
     "text": [
      "7.5\n"
     ]
    }
   ],
   "source": [
    "#2. Write a function to calculate the average value of an array of integers\n",
    "l=[1,2,3,4,5]\n",
    "def avg(l):\n",
    "    return sum(l)/2\n",
    "ob=avg(l)\n",
    "print(ob)"
   ]
  },
  {
   "cell_type": "code",
   "execution_count": 10,
   "id": "dfc15a40-0101-4c1d-a617-7992f5ce8f67",
   "metadata": {},
   "outputs": [
    {
     "name": "stdout",
     "output_type": "stream",
     "text": [
      "0 1 2 3 "
     ]
    }
   ],
   "source": [
    "#3. Write a program to find the index of an array element\n",
    "l=[1,2,3,4]\n",
    "for i in range(0,len(l)):\n",
    "    print(i,end=' ')"
   ]
  },
  {
   "cell_type": "code",
   "execution_count": 9,
   "id": "c1e05f3d-ccc7-428a-98c6-628a189c514d",
   "metadata": {},
   "outputs": [
    {
     "name": "stdin",
     "output_type": "stream",
     "text": [
      " 2 3 4 5 6 7 8\n",
      " 10\n"
     ]
    },
    {
     "name": "stdout",
     "output_type": "stream",
     "text": [
      "not in array\n"
     ]
    }
   ],
   "source": [
    "#4. Write a function to test if array contains a specific value\n",
    "l=list(map(int,input().split()))\n",
    "k=int(input())\n",
    "for i in range(len(l)):\n",
    "    if l[i]==k:\n",
    "        print(\"is in array\")\n",
    "        break\n",
    "else:\n",
    "    print(\"not in array\")\n",
    "    \n",
    "        "
   ]
  },
  {
   "cell_type": "code",
   "execution_count": 12,
   "id": "00fab3c4-1429-46f9-9629-d4e93b312035",
   "metadata": {},
   "outputs": [
    {
     "name": "stdin",
     "output_type": "stream",
     "text": [
      " 3 4 5 2 6 7 8 \n",
      " 6\n"
     ]
    },
    {
     "name": "stdout",
     "output_type": "stream",
     "text": [
      "[3, 4, 5, 2, 7, 8]\n"
     ]
    }
   ],
   "source": [
    "#5. Write a function to remove a specific element from an array\n",
    "l=list(map(int,input().split()))\n",
    "k=int(input())\n",
    "for i in range(len(l)):\n",
    "    if l[i]==k:\n",
    "        del(l[i])\n",
    "        break\n",
    "print(l)\n"
   ]
  },
  {
   "cell_type": "code",
   "execution_count": 20,
   "id": "ef887b5d-33e5-447a-ae10-ad1a5a07f829",
   "metadata": {},
   "outputs": [
    {
     "name": "stdin",
     "output_type": "stream",
     "text": [
      " 5 4 6 3 7 8\n"
     ]
    },
    {
     "name": "stdout",
     "output_type": "stream",
     "text": [
      "[5, 4, 6, 3, 7, 8]\n"
     ]
    }
   ],
   "source": [
    "#6. Write a function to copy an array to another array\n",
    "l=list(map(int,input().split()))\n",
    "k=l\n",
    "print(k)\n"
   ]
  },
  {
   "cell_type": "code",
   "execution_count": 24,
   "id": "f3005324-8aa0-476a-ac73-84c579c286f9",
   "metadata": {},
   "outputs": [
    {
     "name": "stdin",
     "output_type": "stream",
     "text": [
      "  3 45 6 7  89\n",
      " 4\n",
      " 2\n"
     ]
    },
    {
     "name": "stdout",
     "output_type": "stream",
     "text": [
      "[3, 45, 6, 7, 2, 89]\n"
     ]
    }
   ],
   "source": [
    "#7. Write a function to insert an element at a specific position in the array\n",
    "l=list(map(int,input().split()))\n",
    "k=int(input())\n",
    "m=int(input())\n",
    "for i in range(len(l)):\n",
    "    l.insert(k,m)\n",
    "    break\n",
    "print(l)"
   ]
  },
  {
   "cell_type": "code",
   "execution_count": 7,
   "id": "ea3e002e-5fa0-4958-a1d3-1c5290f996d5",
   "metadata": {},
   "outputs": [
    {
     "name": "stdin",
     "output_type": "stream",
     "text": [
      " 3 4 6 7 5\n"
     ]
    },
    {
     "name": "stdout",
     "output_type": "stream",
     "text": [
      "3 7\n"
     ]
    }
   ],
   "source": [
    "#8. Write a function to find the minimum and maximum value of an array\n",
    "l=list(map(int,input().split()))\n",
    "min=max=l[0]\n",
    "for i in range(len(l)):\n",
    "    if min>=l[i]:\n",
    "        min=l[i]\n",
    "    if max<=l[i]:\n",
    "        max=l[i]\n",
    "print(min,max)"
   ]
  },
  {
   "cell_type": "code",
   "execution_count": 59,
   "id": "fbd6d9a1-a1bf-475d-b568-c1631ac41626",
   "metadata": {},
   "outputs": [
    {
     "name": "stdin",
     "output_type": "stream",
     "text": [
      " 3 4 56\n"
     ]
    },
    {
     "name": "stdout",
     "output_type": "stream",
     "text": [
      "[56, 4, 3]\n"
     ]
    }
   ],
   "source": [
    "#9. Write a function to reverse an array of integer values\n",
    "l=list(map(int,input().split()))\n",
    "i=0\n",
    "j=len(l)-1\n",
    "while i<j:\n",
    "    l[i],l[j]=l[j],l[i]\n",
    "    i=i+1\n",
    "    j=j-1\n",
    "print(l)\n"
   ]
  },
  {
   "cell_type": "code",
   "execution_count": 60,
   "id": "a6216efb-4b7f-495f-923e-d9a96d38da30",
   "metadata": {},
   "outputs": [
    {
     "name": "stdin",
     "output_type": "stream",
     "text": [
      " 3 4 56\n"
     ]
    },
    {
     "name": "stdout",
     "output_type": "stream",
     "text": [
      "[56, 4, 3]\n"
     ]
    }
   ],
   "source": [
    "#0r\n",
    "l=list(map(int,input().split()))\n",
    "l=l[::-1]\n",
    "print(l)"
   ]
  },
  {
   "cell_type": "code",
   "execution_count": 71,
   "id": "c9bb65d6-5769-482a-9d8c-7a9ee55a5d62",
   "metadata": {},
   "outputs": [
    {
     "name": "stdin",
     "output_type": "stream",
     "text": [
      " 3 4 5 3 4\n"
     ]
    },
    {
     "name": "stdout",
     "output_type": "stream",
     "text": [
      "[3, 4]\n"
     ]
    }
   ],
   "source": [
    "#10. Write a function to find the duplicate values of an array\n",
    "l=list(map(int,input().split()))\n",
    "h=set()\n",
    "k=[]\n",
    "def dup(l):\n",
    "    for i in l:\n",
    "        if i in h:\n",
    "            k.append(i)\n",
    "        else:\n",
    "            h.add(i)\n",
    "    print(k)\n",
    "ob=dup(l)\n"
   ]
  },
  {
   "cell_type": "code",
   "execution_count": 18,
   "id": "28b697c7-ad3a-4712-9f72-088521af0183",
   "metadata": {},
   "outputs": [
    {
     "name": "stdin",
     "output_type": "stream",
     "text": [
      " 5 4 6 7 8 \n",
      " 3 4 2 1 1 1\n"
     ]
    },
    {
     "name": "stdout",
     "output_type": "stream",
     "text": [
      "4 "
     ]
    }
   ],
   "source": [
    "#11. Write a program to find the common values between two arrays\n",
    "l=list(map(int,input().split()))\n",
    "m=list(map(int,input().split()))\n",
    "for i in l:\n",
    "    for j in m:\n",
    "        if i==j:\n",
    "            print(i,end=\" \")\n",
    "            break\n"
   ]
  },
  {
   "cell_type": "code",
   "execution_count": 14,
   "id": "b81adc1a-784b-4ef0-aa43-2610b9013579",
   "metadata": {},
   "outputs": [
    {
     "name": "stdin",
     "output_type": "stream",
     "text": [
      " 3 4 5 3 4 2 6 5  4\n"
     ]
    },
    {
     "name": "stdout",
     "output_type": "stream",
     "text": [
      "[3, 4, 5, 2, 6]\n"
     ]
    }
   ],
   "source": [
    "#12. Write a method to remove duplicate elements from an array\n",
    "l=list(map(int,input().split()))\n",
    "k=[]\n",
    "for i in l:\n",
    "    if i not in k:\n",
    "        k.append(i)\n",
    "print(k)"
   ]
  },
  {
   "cell_type": "code",
   "execution_count": 3,
   "id": "f2e9779a-f9d2-4404-be83-6c526b80f724",
   "metadata": {},
   "outputs": [
    {
     "name": "stdin",
     "output_type": "stream",
     "text": [
      " 3 5 4 6 2 7\n"
     ]
    },
    {
     "name": "stdout",
     "output_type": "stream",
     "text": [
      "6\n"
     ]
    }
   ],
   "source": [
    "#13. Write a method to find the second largest number in an array\n",
    "l=list(map(int,input().split()))\n",
    "l.remove(max(l))\n",
    "print(max(l))\n"
   ]
  },
  {
   "cell_type": "code",
   "execution_count": 4,
   "id": "3e89c512-d8ea-4dfe-b3ed-51c843afe848",
   "metadata": {},
   "outputs": [
    {
     "name": "stdin",
     "output_type": "stream",
     "text": [
      " 3 5 6 4 2 7 9 8\n"
     ]
    },
    {
     "name": "stdout",
     "output_type": "stream",
     "text": [
      "4\n",
      "4\n"
     ]
    }
   ],
   "source": [
    "#15. Write a method to find number of even number and odd numbers in an array\n",
    "l=list(map(int,input().split()))\n",
    "e=[]\n",
    "o=[]\n",
    "for i in range(len(l)):\n",
    "    if l[i]%2==0:\n",
    "        e.append(l[i])\n",
    "    else:\n",
    "        o.append(l[i])\n",
    "print(len(e))\n",
    "print(len(o))\n",
    "    \n"
   ]
  },
  {
   "cell_type": "code",
   "execution_count": 8,
   "id": "0ca4ab4e-a78d-48e1-abba-1627b677fcd0",
   "metadata": {},
   "outputs": [
    {
     "name": "stdin",
     "output_type": "stream",
     "text": [
      " 4 6 5 2 7 9 5\n"
     ]
    },
    {
     "name": "stdout",
     "output_type": "stream",
     "text": [
      "9\n",
      "2\n",
      "7\n"
     ]
    }
   ],
   "source": [
    "#16. Write a function to get the difference of largest and smallest value\n",
    "l=list(map(int,input().split()))\n",
    "max=min=l[0]\n",
    "for i in range(len(l)):\n",
    "    if min>=l[i]:\n",
    "        min=l[i]\n",
    "    if max<=l[i]:\n",
    "        max=l[i]\n",
    "print(max)\n",
    "print(min)\n",
    "print(max-min)"
   ]
  },
  {
   "cell_type": "code",
   "execution_count": 12,
   "id": "cc8e3905-307f-4a49-9ef7-38e3e4884afb",
   "metadata": {},
   "outputs": [
    {
     "name": "stdin",
     "output_type": "stream",
     "text": [
      " 4 5 2 3 12 2\n"
     ]
    },
    {
     "name": "stdout",
     "output_type": "stream",
     "text": [
      "false\n"
     ]
    }
   ],
   "source": [
    "#17. Write a method to verify if the array contains two specified elements(12,23)\n",
    "l=list(map(int,input().split()))\n",
    "for i in l:\n",
    "    if 12 in l and 23 in l:\n",
    "        print(\"true\")\n",
    "        break\n",
    "    else:\n",
    "        print(\"false\")\n",
    "        break\n"
   ]
  },
  {
   "cell_type": "code",
   "execution_count": 15,
   "id": "fa6d00da-482b-4878-ae3b-9f12e97af7ae",
   "metadata": {},
   "outputs": [
    {
     "name": "stdin",
     "output_type": "stream",
     "text": [
      " 3 4 5 2 6 5 7\n"
     ]
    },
    {
     "name": "stdout",
     "output_type": "stream",
     "text": [
      "[3, 4, 5, 2, 6, 7]\n"
     ]
    }
   ],
   "source": [
    "#18. Write a program to remove the duplicate elements and return the new array\n",
    "l=list(map(int,input().split()))\n",
    "k=[]\n",
    "for i in l:\n",
    "    if i not in k:\n",
    "        k.append(i)\n",
    "print(k)"
   ]
  },
  {
   "cell_type": "code",
   "execution_count": null,
   "id": "eba24527-86da-4b19-ae21-d5e5ebd690a0",
   "metadata": {},
   "outputs": [],
   "source": []
  },
  {
   "cell_type": "code",
   "execution_count": null,
   "id": "868dbdd3-b113-4f23-9def-605680509b51",
   "metadata": {},
   "outputs": [],
   "source": []
  },
  {
   "cell_type": "code",
   "execution_count": null,
   "id": "76e21c69-90ea-4a84-aee5-23af3305d863",
   "metadata": {},
   "outputs": [],
   "source": []
  },
  {
   "cell_type": "code",
   "execution_count": null,
   "id": "ac0b323d-6145-4cd2-8ff2-4b9d82037c3a",
   "metadata": {},
   "outputs": [],
   "source": []
  },
  {
   "cell_type": "code",
   "execution_count": null,
   "id": "736aa029-4028-4567-84ce-f5a9c11b6c6b",
   "metadata": {},
   "outputs": [],
   "source": []
  }
 ],
 "metadata": {
  "kernelspec": {
   "display_name": "Python 3 (ipykernel)",
   "language": "python",
   "name": "python3"
  },
  "language_info": {
   "codemirror_mode": {
    "name": "ipython",
    "version": 3
   },
   "file_extension": ".py",
   "mimetype": "text/x-python",
   "name": "python",
   "nbconvert_exporter": "python",
   "pygments_lexer": "ipython3",
   "version": "3.12.0"
  }
 },
 "nbformat": 4,
 "nbformat_minor": 5
}
