{
 "cells": [
  {
   "cell_type": "code",
   "execution_count": 2,
   "id": "1e536614-4108-42bc-bee5-016a9be6b9b1",
   "metadata": {},
   "outputs": [
    {
     "name": "stdout",
     "output_type": "stream",
     "text": [
      "vcshka\n",
      "vcshka\n",
      "vcshka\n"
     ]
    }
   ],
   "source": [
    "#1. Different ways creating a string\n",
    "#method 1\n",
    "s=\"vcshka\"\n",
    "print(s)\n",
    "#method 2\n",
    "s='vcshka'\n",
    "print(s)\n",
    "#method 3\n",
    "s=\"\"\"vcshka\"\"\"\n",
    "print(s)\n"
   ]
  },
  {
   "cell_type": "code",
   "execution_count": 4,
   "id": "ebd5c1bf-1f47-4d74-b2bd-179349e8b2fe",
   "metadata": {},
   "outputs": [
    {
     "name": "stdout",
     "output_type": "stream",
     "text": [
      "hello world\n"
     ]
    }
   ],
   "source": [
    "#2. Concatenating two strings using + operator\n",
    "s=\"hello\"\n",
    "s2=\"world\"\n",
    "print(s+\" \"+s2)"
   ]
  },
  {
   "cell_type": "code",
   "execution_count": 6,
   "id": "70ce876a-c088-404e-8f5d-339bd9299224",
   "metadata": {},
   "outputs": [
    {
     "name": "stdout",
     "output_type": "stream",
     "text": [
      "11\n"
     ]
    }
   ],
   "source": [
    "#3. Finding the length of the string\n",
    "s=\"hello world\"\n",
    "print(len(s))"
   ]
  },
  {
   "cell_type": "code",
   "execution_count": 7,
   "id": "8c258b29-51cf-4917-a269-2b81fdc50394",
   "metadata": {},
   "outputs": [
    {
     "name": "stdout",
     "output_type": "stream",
     "text": [
      "llo w\n"
     ]
    }
   ],
   "source": [
    "#4. Extract a string using Substring\n",
    "s=\"hello world\"\n",
    "substr=s[2:7]\n",
    "print(substr)\n"
   ]
  },
  {
   "cell_type": "code",
   "execution_count": 11,
   "id": "d50ac101-354e-4b9d-a388-6a9c525e30a1",
   "metadata": {},
   "outputs": [
    {
     "name": "stdout",
     "output_type": "stream",
     "text": [
      "4\n"
     ]
    }
   ],
   "source": [
    "#5. Searching in strings using index()\n",
    "s=\"hello world\"\n",
    "s2=s.index(\"o\")\n",
    "print(s2)\n"
   ]
  },
  {
   "cell_type": "code",
   "execution_count": 38,
   "id": "8b7039cd-c3c8-4e64-a271-879861269ba3",
   "metadata": {},
   "outputs": [
    {
     "name": "stdout",
     "output_type": "stream",
     "text": [
      "Match found!\n"
     ]
    }
   ],
   "source": [
    "#6. Matching a String Against a Regular Expression With matches()\n",
    "import re\n",
    "pattern = r\"Hello\"\n",
    "text = \"Hello, World!\"\n",
    "match = re.match(pattern, text)\n",
    "if match:\n",
    "    print(\"Match found!\")\n",
    "else:\n",
    "    print(\"No match.\")\n"
   ]
  },
  {
   "cell_type": "code",
   "execution_count": 13,
   "id": "9931a66b-bfec-4901-8242-bccd18906b3b",
   "metadata": {},
   "outputs": [
    {
     "name": "stdout",
     "output_type": "stream",
     "text": [
      "False\n"
     ]
    }
   ],
   "source": [
    "#7. Comparing strings\n",
    "s1=\"hello\"\n",
    "s2=\"hellor\"\n",
    "print(s1==s2)"
   ]
  },
  {
   "cell_type": "code",
   "execution_count": 22,
   "id": "51da0b00-f7b2-4da9-9941-5bc3c1855394",
   "metadata": {},
   "outputs": [
    {
     "name": "stdout",
     "output_type": "stream",
     "text": [
      "False\n",
      "True\n",
      "False\n",
      "True\n",
      "False\n",
      "False\n",
      "True\n"
     ]
    }
   ],
   "source": [
    "#8. startsWith(), endsWith() and compareTo()\n",
    "s=\"Hello world!\"\n",
    "s2=s.startswith(\"Hello\") #without using start and end index\n",
    "s3=s.startswith(\"Hello\",5) # from index 5\n",
    "s4=s.endswith(\"Hello\")  #without using start and end index\n",
    "s5=s.endswith(\"world!\",6,12) #from index 6 to 12\n",
    "s6=\"Hello\"\n",
    "s7=\"Bye\"\n",
    "print(s6<s7) #comparing\n",
    "print(s6>s7) #comparing\n",
    "print(s6==s7) #comparing\n",
    "print(s2)\n",
    "print(s3)\n",
    "print(s4)\n",
    "print(s5)"
   ]
  },
  {
   "cell_type": "code",
   "execution_count": 26,
   "id": "4d82724a-6912-43b2-82c4-a56aa31e31f6",
   "metadata": {},
   "outputs": [
    {
     "name": "stdout",
     "output_type": "stream",
     "text": [
      "Hello world!\n",
      "hello world\n"
     ]
    }
   ],
   "source": [
    "#9. Trimming strings with strip()\n",
    "s=\"Hello world!\"\n",
    "s2=s.strip()\n",
    "print(s2)\n",
    "s1=\"***hello world\"\n",
    "s3=s1.strip(\"*\")\n",
    "print(s3)"
   ]
  },
  {
   "cell_type": "code",
   "execution_count": 27,
   "id": "5ac8023e-4b54-4c14-ad68-8a80a1d5eb64",
   "metadata": {},
   "outputs": [
    {
     "name": "stdout",
     "output_type": "stream",
     "text": [
      "bello world!\n"
     ]
    }
   ],
   "source": [
    "#10. Replacing characters in strings with replace()\n",
    "s=\"Hello world!\"\n",
    "s2=s.replace(\"H\",\"b\")\n",
    "print(s2)"
   ]
  },
  {
   "cell_type": "code",
   "execution_count": 32,
   "id": "64725b93-3881-4354-ad39-9acc670302c4",
   "metadata": {},
   "outputs": [
    {
     "name": "stdout",
     "output_type": "stream",
     "text": [
      "['Hello', 'world!']\n"
     ]
    }
   ],
   "source": [
    "#11. Splitting strings with split()\n",
    "s=\"Hello,world!\"\n",
    "s2=s.split(\",\")\n",
    "print(s2)"
   ]
  },
  {
   "cell_type": "code",
   "execution_count": 34,
   "id": "a1eee71d-61b1-4876-8a59-093c4779948a",
   "metadata": {},
   "outputs": [
    {
     "name": "stdout",
     "output_type": "stream",
     "text": [
      "123\n",
      "<class 'str'>\n"
     ]
    }
   ],
   "source": [
    "#12. Converting integer objects to Strings\n",
    "s=str(123)\n",
    "print(s)\n",
    "print(type(s))"
   ]
  },
  {
   "cell_type": "code",
   "execution_count": 37,
   "id": "72da7804-ce95-477a-a60f-29cb57f3f86f",
   "metadata": {},
   "outputs": [
    {
     "name": "stdout",
     "output_type": "stream",
     "text": [
      "HELLO WORLD!\n",
      "hello world!\n"
     ]
    }
   ],
   "source": [
    "#13. Converting to uppercase and lowercase\n",
    "s=\"hello world!\"\n",
    "s2=\"HELLO WORLD!\"\n",
    "print(s.upper())\n",
    "print(s2.lower())\n"
   ]
  }
 ],
 "metadata": {
  "kernelspec": {
   "display_name": "Python 3 (ipykernel)",
   "language": "python",
   "name": "python3"
  },
  "language_info": {
   "codemirror_mode": {
    "name": "ipython",
    "version": 3
   },
   "file_extension": ".py",
   "mimetype": "text/x-python",
   "name": "python",
   "nbconvert_exporter": "python",
   "pygments_lexer": "ipython3",
   "version": "3.12.0"
  }
 },
 "nbformat": 4,
 "nbformat_minor": 5
}
