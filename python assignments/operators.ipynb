{
 "cells": [
  {
   "cell_type": "code",
   "execution_count": 1,
   "id": "a2e9dd07-2e23-49f4-9704-152bf4078de9",
   "metadata": {},
   "outputs": [
    {
     "name": "stdout",
     "output_type": "stream",
     "text": [
      "15\n",
      "5\n",
      "50\n",
      "2.0\n"
     ]
    }
   ],
   "source": [
    "#1.Write a function for arithmetic operators(+,-,*,/)\n",
    "a=10\n",
    "b=5\n",
    "def arith():\n",
    "    print(a+b)\n",
    "    print(a-b)\n",
    "    print(a*b)\n",
    "    print(a/b)\n",
    "ob=arith()"
   ]
  },
  {
   "cell_type": "code",
   "execution_count": 3,
   "id": "1aead2f1-b3ee-4897-accf-3f2946a94426",
   "metadata": {},
   "outputs": [
    {
     "name": "stdout",
     "output_type": "stream",
     "text": [
      "15\n",
      "5\n",
      "50\n",
      "2.0\n"
     ]
    }
   ],
   "source": [
    "#or\n",
    "def arith(a,b):\n",
    "    print(a+b)\n",
    "    print(a-b)\n",
    "    print(a*b)\n",
    "    print(a/b)\n",
    "ob=arith(10,5)"
   ]
  },
  {
   "cell_type": "code",
   "execution_count": 14,
   "id": "78d296cd-30bb-44eb-a886-08eb8c48c605",
   "metadata": {},
   "outputs": [
    {
     "name": "stdout",
     "output_type": "stream",
     "text": [
      "15\n",
      "5\n",
      "50\n",
      "2.0\n"
     ]
    }
   ],
   "source": [
    "#or\n",
    "def arith(a,b,operator):\n",
    "    if operator==\"+\":\n",
    "        return a+b\n",
    "    elif operator==\"-\":\n",
    "        return a-b\n",
    "    elif operator==\"*\":\n",
    "        return a*b\n",
    "    elif operator==\"/\":\n",
    "        if b!=0:\n",
    "            return a/b\n",
    "    else:\n",
    "        print(\"operator not provided\")\n",
    "ob=arith(10,5,\"+\")\n",
    "print(ob)\n",
    "ob=arith(10,5,\"-\")\n",
    "print(ob)\n",
    "ob=arith(10,5,\"*\")\n",
    "print(ob)\n",
    "ob=arith(10,5,\"/\")\n",
    "print(ob)\n"
   ]
  },
  {
   "cell_type": "code",
   "execution_count": 19,
   "id": "33fdb193-7afe-4ecf-8dd4-98b9d8ea612b",
   "metadata": {},
   "outputs": [
    {
     "name": "stdout",
     "output_type": "stream",
     "text": [
      "11\n",
      "9\n"
     ]
    }
   ],
   "source": [
    "#2.Write a method for increment and decrement operators(++, --)\n",
    "#here in python ++ and -- operators doesn't exist\n",
    "# so we use +1 for increment and -1 for decrement\n",
    "def inc(n):\n",
    "    n +=1\n",
    "    return n\n",
    "def dec(n):\n",
    "    n -=1\n",
    "    return n\n",
    "ob1=inc(10)\n",
    "print(ob1)\n",
    "ob2=dec(10)\n",
    "print(ob2)"
   ]
  },
  {
   "cell_type": "code",
   "execution_count": 20,
   "id": "878e6eac-2115-47ca-bde7-e10454ddf70d",
   "metadata": {},
   "outputs": [
    {
     "name": "stdout",
     "output_type": "stream",
     "text": [
      "both are equal\n"
     ]
    }
   ],
   "source": [
    "#3.Write a program to find the two numbers equal or not.\n",
    "a=4\n",
    "b=4\n",
    "if a==b:\n",
    "    print(\"both are equal\")\n",
    "else:\n",
    "    print(\"both are not equal\")\n"
   ]
  },
  {
   "cell_type": "code",
   "execution_count": 24,
   "id": "a504836d-3383-4b5e-827c-a48273acc008",
   "metadata": {},
   "outputs": [
    {
     "name": "stdout",
     "output_type": "stream",
     "text": [
      "10 is less than 20\n",
      "10 is less than or equal to 20\n",
      "10 is not greater than 20\n",
      "10 is not greater than or equal to 20\n"
     ]
    }
   ],
   "source": [
    "#4.Program for relational operators (<,<==, >, >==)\n",
    "a=10\n",
    "b=20\n",
    "if a<b:\n",
    "    print(a,\"is less than\",b)\n",
    "else:\n",
    "    print(a,\"is not less than\",b)\n",
    "if a<=b:\n",
    "    print(a,\"is less than or equal to\",b)\n",
    "else:\n",
    "    print(a,\"is not less than or equal to\",b)\n",
    "if a>b:\n",
    "    print(a,\"is greater than\",b)\n",
    "else:\n",
    "    print(a,\"is not greater than\",b)\n",
    "if a>=b:\n",
    "    print(a,\"is greater than or equal to\",b)\n",
    "else:\n",
    "    print(a,\"is not greater than or equal to\",b)\n",
    "    \n",
    "    \n",
    "    "
   ]
  },
  {
   "cell_type": "code",
   "execution_count": 26,
   "id": "7186e722-3377-4077-a46d-98bdcd082879",
   "metadata": {},
   "outputs": [
    {
     "name": "stdout",
     "output_type": "stream",
     "text": [
      "larger number: 29\n",
      "smaller number 9\n"
     ]
    }
   ],
   "source": [
    "#5. Print the smaller and larger number\n",
    "a=9\n",
    "b=29\n",
    "if a>b:\n",
    "    print(\"larger number:\",a)\n",
    "else:\n",
    "    print(\"larger number:\",b)\n",
    "if b<a:\n",
    "    print(\"smaller number\",b)\n",
    "else:\n",
    "    print(\"smaller number\",a)"
   ]
  },
  {
   "cell_type": "code",
   "execution_count": null,
   "id": "79abd608-0a89-49eb-92b9-cffffa8ba654",
   "metadata": {},
   "outputs": [],
   "source": []
  }
 ],
 "metadata": {
  "kernelspec": {
   "display_name": "Python 3 (ipykernel)",
   "language": "python",
   "name": "python3"
  },
  "language_info": {
   "codemirror_mode": {
    "name": "ipython",
    "version": 3
   },
   "file_extension": ".py",
   "mimetype": "text/x-python",
   "name": "python",
   "nbconvert_exporter": "python",
   "pygments_lexer": "ipython3",
   "version": "3.12.0"
  }
 },
 "nbformat": 4,
 "nbformat_minor": 5
}
