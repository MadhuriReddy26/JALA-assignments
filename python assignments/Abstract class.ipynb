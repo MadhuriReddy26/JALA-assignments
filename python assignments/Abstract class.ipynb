{
 "cells": [
  {
   "cell_type": "code",
   "execution_count": 1,
   "id": "b4dcef5e-70fa-4e28-b479-b7f452e624f1",
   "metadata": {},
   "outputs": [
    {
     "name": "stdout",
     "output_type": "stream",
     "text": [
      "Buddy makes a sound!\n",
      "Buddy runs!\n",
      "Buddy eats dog food.\n"
     ]
    }
   ],
   "source": [
    "#1. Create an abstract class with abstract and non-abstract methods.\n",
    "from abc import ABC, abstractmethod\n",
    "class Animal(ABC):\n",
    "    \n",
    "    def __init__(self, name):\n",
    "        self.name = name  \n",
    "    def speak(self):\n",
    "        print(f\"{self.name} makes a sound!\")\n",
    "    @abstractmethod\n",
    "    def move(self):\n",
    "        pass\n",
    "    @abstractmethod\n",
    "    def eat(self):\n",
    "        pass\n",
    "class Dog(Animal):\n",
    "    def move(self):\n",
    "        print(f\"{self.name} runs!\")\n",
    "    def eat(self):\n",
    "        print(f\"{self.name} eats dog food.\")\n",
    "dog = Dog(\"Buddy\")\n",
    "dog.speak()  \n",
    "dog.move()   \n",
    "dog.eat()   \n"
   ]
  },
  {
   "cell_type": "code",
   "execution_count": 3,
   "id": "157095ae-c987-42a4-9c45-bc5ca6c5ab74",
   "metadata": {},
   "outputs": [
    {
     "name": "stdout",
     "output_type": "stream",
     "text": [
      "Buddy makes a sound!\n",
      "Buddy runs!\n",
      "Buddy eats dog food.\n"
     ]
    }
   ],
   "source": [
    "#2. Create a sub class for an abstract class. Create an object in the child class for the \n",
    "#abstract class and access the non-abstract methods\n",
    "from abc import ABC, abstractmethod\n",
    "class Animal(ABC):\n",
    "    \n",
    "    def __init__(self, name):\n",
    "        self.name = name \n",
    "    def speak(self):\n",
    "        print(f\"{self.name} makes a sound!\")\n",
    "    @abstractmethod\n",
    "    def move(self):\n",
    "        pass\n",
    "    @abstractmethod\n",
    "    def eat(self):\n",
    "        pass\n",
    "class Dog(Animal):\n",
    "    \n",
    "    def __init__(self, name):\n",
    "        super().__init__(name)\n",
    "    def move(self):\n",
    "        print(f\"{self.name} runs!\")\n",
    "    def eat(self):\n",
    "        print(f\"{self.name} eats dog food.\")\n",
    "dog = Dog(\"Buddy\")\n",
    "dog.speak()  \n",
    "dog.move()  \n",
    "dog.eat()    \n"
   ]
  },
  {
   "cell_type": "code",
   "execution_count": 4,
   "id": "d06ca9a7-f066-43ca-98b2-c9fe5b062fb2",
   "metadata": {},
   "outputs": [
    {
     "name": "stdout",
     "output_type": "stream",
     "text": [
      "Buddy makes a sound!\n",
      "Buddy runs!\n",
      "Buddy eats dog food.\n"
     ]
    }
   ],
   "source": [
    "#3. Create an instance for the child class in child class and call abstract methods\n",
    "from abc import ABC, abstractmethod\n",
    "\n",
    "# Define an abstract class with both abstract and non-abstract methods\n",
    "class Animal(ABC):\n",
    "    \n",
    "    def __init__(self, name):\n",
    "        self.name = name \n",
    "    def speak(self):\n",
    "        print(f\"{self.name} makes a sound!\")\n",
    "    @abstractmethod\n",
    "    def move(self):\n",
    "        pass\n",
    "    @abstractmethod\n",
    "    def eat(self):\n",
    "        pass\n",
    "# Define a subclass that implements the abstract methods\n",
    "class Dog(Animal):\n",
    "    \n",
    "    def __init__(self, name):\n",
    "        # Call the constructor of the parent class (Animal)\n",
    "        super().__init__(name)\n",
    "    \n",
    "    def move(self):\n",
    "        print(f\"{self.name} runs!\")\n",
    "    \n",
    "    def eat(self):\n",
    "        print(f\"{self.name} eats dog food.\")\n",
    "    def create_and_call(self):\n",
    "        dog_instance = Dog(self.name)\n",
    "        dog_instance.speak() \n",
    "        dog_instance.move() \n",
    "        dog_instance.eat()  \n",
    "dog = Dog(\"Buddy\")\n",
    "dog.create_and_call() \n"
   ]
  },
  {
   "cell_type": "code",
   "execution_count": 5,
   "id": "6002e2dd-7576-494a-a728-c7ec68b25152",
   "metadata": {},
   "outputs": [
    {
     "name": "stdout",
     "output_type": "stream",
     "text": [
      "Buddy makes a sound!\n"
     ]
    }
   ],
   "source": [
    "#4.Create an instance for the child class in child class and call non-abstract method\n",
    "from abc import ABC, abstractmethod\n",
    "class Animal(ABC):\n",
    "    \n",
    "    def __init__(self, name):\n",
    "        self.name = name \n",
    "    def speak(self):\n",
    "        print(f\"{self.name} makes a sound!\")\n",
    "    @abstractmethod\n",
    "    def move(self):\n",
    "        pass\n",
    "    @abstractmethod\n",
    "    def eat(self):\n",
    "        pass\n",
    "# Define a subclass that implements the abstract methods\n",
    "class Dog(Animal):\n",
    "    def __init__(self, name):\n",
    "        super().__init__(name)\n",
    "    def move(self):\n",
    "        print(f\"{self.name} runs!\")\n",
    "    def eat(self):\n",
    "        print(f\"{self.name} eats dog food.\")\n",
    "    def create_and_call(self):\n",
    "        dog_instance = Dog(self.name)\n",
    "        dog_instance.speak()\n",
    "dog = Dog(\"Buddy\")\n",
    "dog.create_and_call()\n",
    "\n"
   ]
  },
  {
   "cell_type": "code",
   "execution_count": null,
   "id": "c8e2ec08-c996-4647-87be-263bcd973d41",
   "metadata": {},
   "outputs": [],
   "source": []
  }
 ],
 "metadata": {
  "kernelspec": {
   "display_name": "Python 3 (ipykernel)",
   "language": "python",
   "name": "python3"
  },
  "language_info": {
   "codemirror_mode": {
    "name": "ipython",
    "version": 3
   },
   "file_extension": ".py",
   "mimetype": "text/x-python",
   "name": "python",
   "nbconvert_exporter": "python",
   "pygments_lexer": "ipython3",
   "version": "3.12.0"
  }
 },
 "nbformat": 4,
 "nbformat_minor": 5
}
