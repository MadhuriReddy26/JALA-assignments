{
 "cells": [
  {
   "cell_type": "code",
   "execution_count": 1,
   "id": "7a2012eb-7b44-4d38-b8c5-ae9a9c6eb4a4",
   "metadata": {},
   "outputs": [
    {
     "name": "stdout",
     "output_type": "stream",
     "text": [
      "My name is:Madhuri\n"
     ]
    }
   ],
   "source": [
    "#1.Write a program to print your name\n",
    "print(\"My name is:Madhuri\")"
   ]
  },
  {
   "cell_type": "code",
   "execution_count": 3,
   "id": "71343920-603e-45f9-bf2a-3c85eb889543",
   "metadata": {},
   "outputs": [
    {
     "name": "stdin",
     "output_type": "stream",
     "text": [
      "enter your name: Madhuri\n"
     ]
    },
    {
     "name": "stdout",
     "output_type": "stream",
     "text": [
      "Madhuri\n"
     ]
    }
   ],
   "source": [
    "n=input(\"enter your name:\")\n",
    "print(n)"
   ]
  },
  {
   "cell_type": "code",
   "execution_count": null,
   "id": "1fe020e4-7aa0-4bee-a95a-a574bf185bd6",
   "metadata": {},
   "outputs": [],
   "source": [
    "#2.Write a program for a Single line comment and multi-line comments\n",
    "a=10\n",
    "b=20\n",
    "#addition of two numbers\n",
    "c=a+b\n",
    "\"\"\"\n",
    "we can write multiple comments \n",
    "#in many ways \n",
    "\"\"\""
   ]
  },
  {
   "cell_type": "code",
   "execution_count": 4,
   "id": "7ea3011f-99b7-4c17-8e6e-e1b5735f4f30",
   "metadata": {},
   "outputs": [
    {
     "name": "stdout",
     "output_type": "stream",
     "text": [
      "30\n"
     ]
    }
   ],
   "source": [
    "#2.Write a program for a Single line comment and multi-line comments\n",
    "a=10\n",
    "b=20\n",
    "#addition of two numbers\n",
    "c=a+b\n",
    "#we can write multiple line comments in 2 ways by using \"\"\"  \"\"\" quotes or starting the each line with #.\n",
    "#here \"\"\" \"\"\" is not working so we are using #.\n",
    "print(c)\n"
   ]
  },
  {
   "cell_type": "code",
   "execution_count": 11,
   "id": "f0c48e3b-4d10-4f23-8eca-a170c269da82",
   "metadata": {},
   "outputs": [
    {
     "name": "stdout",
     "output_type": "stream",
     "text": [
      "<class 'int'>\n",
      "<class 'float'>\n",
      "<class 'bool'>\n",
      "<class 'str'>\n",
      "<class 'float'>\n"
     ]
    }
   ],
   "source": [
    "#3.Define variables for different Data Types int, Boolean, char, float, double and print on the console.\n",
    "a=10\n",
    "b=4.5\n",
    "c=True\n",
    "d=\"h\"\n",
    "e=9.452376567628\n",
    "print(type(a))\n",
    "print(type(b))\n",
    "print(type(c))\n",
    "print(type(d)) #In python single character is represented as string of length 1.\n",
    "print(type(e)) #there is no double data type in python so,float is used for double precision."
   ]
  },
  {
   "cell_type": "code",
   "execution_count": 14,
   "id": "3941df13-e37b-4c30-81b5-123a36551df4",
   "metadata": {},
   "outputs": [
    {
     "name": "stdout",
     "output_type": "stream",
     "text": [
      "30\n"
     ]
    }
   ],
   "source": [
    "#4.Define the local and Global variables with the same name and print both variables and understand the scope of the variables\n",
    "a=10           #global variable, where it can be accessed from anywhere and have global scope\n",
    "def add():\n",
    "    b=20       #local variable ,where it has block scope ,only accessed within the function\n",
    "    print(a+b)\n",
    "ob=add()\n",
    "    "
   ]
  },
  {
   "cell_type": "code",
   "execution_count": null,
   "id": "c1113c3e-701a-4e5a-ac06-4cf1df4f27cd",
   "metadata": {},
   "outputs": [],
   "source": []
  }
 ],
 "metadata": {
  "kernelspec": {
   "display_name": "Python 3 (ipykernel)",
   "language": "python",
   "name": "python3"
  },
  "language_info": {
   "codemirror_mode": {
    "name": "ipython",
    "version": 3
   },
   "file_extension": ".py",
   "mimetype": "text/x-python",
   "name": "python",
   "nbconvert_exporter": "python",
   "pygments_lexer": "ipython3",
   "version": "3.12.0"
  }
 },
 "nbformat": 4,
 "nbformat_minor": 5
}
