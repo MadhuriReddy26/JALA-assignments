{
 "cells": [
  {
   "cell_type": "code",
   "execution_count": 2,
   "id": "079feede-bee6-4527-82a9-2bf53c4aaba7",
   "metadata": {},
   "outputs": [
    {
     "name": "stdout",
     "output_type": "stream",
     "text": [
      "Bright IT Career\n",
      "Bright IT Career\n",
      "Bright IT Career\n",
      "Bright IT Career\n",
      "Bright IT Career\n",
      "Bright IT Career\n",
      "Bright IT Career\n",
      "Bright IT Career\n",
      "Bright IT Career\n",
      "Bright IT Career\n",
      "Bright IT Career\n"
     ]
    }
   ],
   "source": [
    "#1. Write a program to print “Bright IT Career” ten times using for loop\n",
    "n=10\n",
    "for i in range(n+1):\n",
    "    print(\"Bright IT Career\")"
   ]
  },
  {
   "cell_type": "code",
   "execution_count": 7,
   "id": "f2bff98d-4c6f-40bc-afca-be02cb7ad231",
   "metadata": {},
   "outputs": [
    {
     "name": "stdout",
     "output_type": "stream",
     "text": [
      "1 2 3 4 5 6 7 8 9 10 11 12 13 14 15 16 17 18 19 20 "
     ]
    }
   ],
   "source": [
    "#2.Write a program to print 1 to 20 numbers using the while loop\n",
    "n=20\n",
    "i=1\n",
    "while i<=n:\n",
    "    print(i,end=\" \")\n",
    "    i=i+1\n",
    "     "
   ]
  },
  {
   "cell_type": "code",
   "execution_count": 65,
   "id": "014c2817-3a28-403f-9f76-a9b127ed4206",
   "metadata": {},
   "outputs": [
    {
     "name": "stdout",
     "output_type": "stream",
     "text": [
      "10 is not equal to 20\n",
      "10 is not equal to 20\n"
     ]
    }
   ],
   "source": [
    "#3. Program to equal operator and not equal operators\n",
    "a=10\n",
    "b=20\n",
    "if a==b:\n",
    "    print(a,\"is equal to\",b)\n",
    "else:\n",
    "    print(a,\"is not equal to\",b)\n",
    "if a!=b:\n",
    "    print(a,\"is not equal to\",b)\n",
    "else:\n",
    "     print(a,\"is equal to\",b)\n",
    "    \n",
    "    \n",
    "\n",
    "    \n",
    "    "
   ]
  },
  {
   "cell_type": "code",
   "execution_count": 64,
   "id": "b20cc291-577c-45e1-984a-dcd39737cfbc",
   "metadata": {},
   "outputs": [
    {
     "name": "stdin",
     "output_type": "stream",
     "text": [
      " 5\n"
     ]
    },
    {
     "name": "stdout",
     "output_type": "stream",
     "text": [
      "it is a odd number\n"
     ]
    }
   ],
   "source": [
    "#4. Write a program to print the odd and even numbers.\n",
    "n=int(input())\n",
    "if n%2==0:\n",
    "    print(\"it is a even number\")\n",
    "else:\n",
    "    print(\"it is a odd number\")"
   ]
  },
  {
   "cell_type": "code",
   "execution_count": 20,
   "id": "d1099878-7ca5-4622-96ff-294078b62afe",
   "metadata": {},
   "outputs": [
    {
     "name": "stdin",
     "output_type": "stream",
     "text": [
      " 4\n",
      " 6\n",
      " 3\n"
     ]
    },
    {
     "name": "stdout",
     "output_type": "stream",
     "text": [
      "largest number is 6\n"
     ]
    }
   ],
   "source": [
    "#5. Write a program to print largest number among three numbers.\n",
    "a=int(input())\n",
    "b=int(input())\n",
    "c=int(input())\n",
    "if a>b and a>c:\n",
    "        print(\"largest number is\",a)\n",
    "elif b>c and b>a:\n",
    "    print(\"largest number is\",b)\n",
    "else:\n",
    "    print(\"largest number is\",c)\n"
   ]
  },
  {
   "cell_type": "code",
   "execution_count": 27,
   "id": "0a5c68f8-b81f-4880-be46-7c734b936e19",
   "metadata": {},
   "outputs": [
    {
     "name": "stdout",
     "output_type": "stream",
     "text": [
      "10 12 14 16 18 20 "
     ]
    }
   ],
   "source": [
    "#6. Write a program to print even number between 10 and 20 using while\n",
    "b=20\n",
    "i=10\n",
    "while i<=b:\n",
    "    if i%2==0:\n",
    "        print(i,end=\" \")\n",
    "    i=i+1"
   ]
  },
  {
   "cell_type": "code",
   "execution_count": 25,
   "id": "73e9b455-f29a-43a4-8f45-23a25630f950",
   "metadata": {},
   "outputs": [
    {
     "name": "stdout",
     "output_type": "stream",
     "text": [
      "1 2 3 4 5 6 7 8 9 10 "
     ]
    }
   ],
   "source": [
    "#7. Write a program to print 1 to 10 using the do-while loop statement.\n",
    "i = 1\n",
    "while True:\n",
    "    print(i,end=\" \")\n",
    "    i += 1\n",
    "    if i > 10:\n",
    "        break\n"
   ]
  },
  {
   "cell_type": "code",
   "execution_count": 80,
   "id": "e5aa0443-2724-41ed-a251-1d721594c24d",
   "metadata": {},
   "outputs": [
    {
     "name": "stdin",
     "output_type": "stream",
     "text": [
      " 407\n"
     ]
    },
    {
     "name": "stdout",
     "output_type": "stream",
     "text": [
      "Armstrong\n"
     ]
    }
   ],
   "source": [
    "#8. Write a program to find Armstrong number or not\n",
    "n=int(input())\n",
    "sum=0\n",
    "t=n\n",
    "while n!=0:\n",
    "    s=n%10\n",
    "    sum=sum+s**3\n",
    "    n=n//10\n",
    "if t==sum:\n",
    "    print(\"Armstrong\")\n",
    "else:\n",
    "    print(\"not\")\n",
    "    "
   ]
  },
  {
   "cell_type": "code",
   "execution_count": 34,
   "id": "08ab1319-c9c3-485b-8238-32bf638d7229",
   "metadata": {},
   "outputs": [
    {
     "name": "stdin",
     "output_type": "stream",
     "text": [
      " 3\n"
     ]
    },
    {
     "name": "stdout",
     "output_type": "stream",
     "text": [
      "prime number\n"
     ]
    }
   ],
   "source": [
    "#9. Write a program to find the prime or not.\n",
    "n=int(input())\n",
    "for i in range(2,n//2):\n",
    "    if n%i==0:\n",
    "        print(\"not a prime number\")\n",
    "        break\n",
    "else:\n",
    "    print(\"prime number\")"
   ]
  },
  {
   "cell_type": "code",
   "execution_count": 48,
   "id": "568442a8-ade1-4952-adbd-960382681619",
   "metadata": {},
   "outputs": [
    {
     "name": "stdin",
     "output_type": "stream",
     "text": [
      " 87878\n"
     ]
    },
    {
     "name": "stdout",
     "output_type": "stream",
     "text": [
      "87878\n",
      "palindrome\n"
     ]
    }
   ],
   "source": [
    "#10. Write a program to palindrome or not.\n",
    "n=int(input())\n",
    "rev=0\n",
    "t=n\n",
    "while n!=0:\n",
    "    rev=rev*10+n%10\n",
    "    n=n//10\n",
    "print(rev)\n",
    "if t==rev:    \n",
    "   print(\"palindrome\")\n",
    "else:\n",
    "    print(\"not\")\n",
    "    "
   ]
  },
  {
   "cell_type": "code",
   "execution_count": 54,
   "id": "c90f78ff-6f79-4277-89e0-c6321e82b5b0",
   "metadata": {},
   "outputs": [
    {
     "name": "stdin",
     "output_type": "stream",
     "text": [
      " 3\n"
     ]
    },
    {
     "name": "stdout",
     "output_type": "stream",
     "text": [
      "odd\n"
     ]
    }
   ],
   "source": [
    "#11. Program to check whether a number is EVEN or ODD using switch\n",
    "#here in python we have match not switch.\n",
    "n=int(input())\n",
    "match n%2:\n",
    "    case 0 :print(\"even\")\n",
    "    case 1 : print(\"odd\")\n",
    "    "
   ]
  },
  {
   "cell_type": "code",
   "execution_count": 60,
   "id": "a134f0b6-eba3-43d0-881f-1625f9c79d43",
   "metadata": {},
   "outputs": [
    {
     "name": "stdin",
     "output_type": "stream",
     "text": [
      " e\n"
     ]
    },
    {
     "name": "stdout",
     "output_type": "stream",
     "text": [
      "others\n"
     ]
    }
   ],
   "source": [
    "#12. Print gender (Male/Female) program according to given M/F using switch\n",
    "n=input()\n",
    "match n:\n",
    "    case \"M\":\n",
    "        print(\"male\")\n",
    "    case \"F\":\n",
    "        print(\"female\")\n",
    "    case _:\n",
    "        print(\"others\")"
   ]
  },
  {
   "cell_type": "code",
   "execution_count": null,
   "id": "3b7de090-dc6c-47ae-92f8-a2e206b3b820",
   "metadata": {},
   "outputs": [],
   "source": []
  }
 ],
 "metadata": {
  "kernelspec": {
   "display_name": "Python 3 (ipykernel)",
   "language": "python",
   "name": "python3"
  },
  "language_info": {
   "codemirror_mode": {
    "name": "ipython",
    "version": 3
   },
   "file_extension": ".py",
   "mimetype": "text/x-python",
   "name": "python",
   "nbconvert_exporter": "python",
   "pygments_lexer": "ipython3",
   "version": "3.12.0"
  }
 },
 "nbformat": 4,
 "nbformat_minor": 5
}
