{
 "cells": [
  {
   "cell_type": "code",
   "execution_count": 1,
   "id": "1fd85761-36e1-44e0-b508-0d8b1eeb3ea4",
   "metadata": {},
   "outputs": [
    {
     "ename": "ZeroDivisionError",
     "evalue": "division by zero",
     "output_type": "error",
     "traceback": [
      "\u001b[1;31m---------------------------------------------------------------------------\u001b[0m",
      "\u001b[1;31mZeroDivisionError\u001b[0m                         Traceback (most recent call last)",
      "Cell \u001b[1;32mIn[1], line 7\u001b[0m\n\u001b[0;32m      4\u001b[0m num2 \u001b[38;5;241m=\u001b[39m \u001b[38;5;241m0\u001b[39m  \u001b[38;5;66;03m# Division by zero will raise an exception\u001b[39;00m\n\u001b[0;32m      6\u001b[0m \u001b[38;5;66;03m# Performing division by zero, which will raise a ZeroDivisionError\u001b[39;00m\n\u001b[1;32m----> 7\u001b[0m result \u001b[38;5;241m=\u001b[39m \u001b[43mnum1\u001b[49m\u001b[43m \u001b[49m\u001b[38;5;241;43m/\u001b[39;49m\u001b[43m \u001b[49m\u001b[43mnum2\u001b[49m  \u001b[38;5;66;03m# This will raise an exception\u001b[39;00m\n\u001b[0;32m      9\u001b[0m \u001b[38;5;28mprint\u001b[39m(\u001b[38;5;124m\"\u001b[39m\u001b[38;5;124mResult:\u001b[39m\u001b[38;5;124m\"\u001b[39m, result)\n",
      "\u001b[1;31mZeroDivisionError\u001b[0m: division by zero"
     ]
    }
   ],
   "source": [
    "#1. Write a program to generate Arithmetic Exception without exception handling\n",
    "num1 = 10\n",
    "num2 = 0  \n",
    "result = num1 / num2  \n",
    "print(\"Result:\", result)\n"
   ]
  },
  {
   "cell_type": "code",
   "execution_count": 2,
   "id": "c1d0f9a9-1a75-4dcc-8df2-8c2abd248b6e",
   "metadata": {},
   "outputs": [
    {
     "name": "stdout",
     "output_type": "stream",
     "text": [
      "Error: Cannot divide by zero!\n",
      "Exception details: division by zero\n"
     ]
    }
   ],
   "source": [
    "#2. Handle the Arithmetic exception using try-catch block\n",
    "try:\n",
    "    num1 = 10\n",
    "    num2 = 0  \n",
    "    result = num1 / num2 \n",
    "    print(\"Result:\", result)\n",
    "\n",
    "except ZeroDivisionError as e:\n",
    "    print(\"Error: Cannot divide by zero!\")\n",
    "    print(\"Exception details:\", e)\n"
   ]
  },
  {
   "cell_type": "code",
   "execution_count": 3,
   "id": "ae823d19-a57e-461d-9ab9-fd4c078379f8",
   "metadata": {},
   "outputs": [
    {
     "name": "stdout",
     "output_type": "stream",
     "text": [
      "Starting program...\n"
     ]
    },
    {
     "ename": "ZeroDivisionError",
     "evalue": "Cannot divide by zero!",
     "output_type": "error",
     "traceback": [
      "\u001b[1;31m---------------------------------------------------------------------------\u001b[0m",
      "\u001b[1;31mZeroDivisionError\u001b[0m                         Traceback (most recent call last)",
      "Cell \u001b[1;32mIn[3], line 11\u001b[0m\n\u001b[0;32m      8\u001b[0m \u001b[38;5;28mprint\u001b[39m(\u001b[38;5;124m\"\u001b[39m\u001b[38;5;124mStarting program...\u001b[39m\u001b[38;5;124m\"\u001b[39m)\n\u001b[0;32m     10\u001b[0m \u001b[38;5;66;03m# Calling the method with zero as the second argument to raise the exception\u001b[39;00m\n\u001b[1;32m---> 11\u001b[0m result \u001b[38;5;241m=\u001b[39m \u001b[43mdivide_numbers\u001b[49m\u001b[43m(\u001b[49m\u001b[38;5;241;43m10\u001b[39;49m\u001b[43m,\u001b[49m\u001b[43m \u001b[49m\u001b[38;5;241;43m0\u001b[39;49m\u001b[43m)\u001b[49m  \u001b[38;5;66;03m# This will raise an exception\u001b[39;00m\n\u001b[0;32m     13\u001b[0m \u001b[38;5;28mprint\u001b[39m(\u001b[38;5;124m\"\u001b[39m\u001b[38;5;124mResult:\u001b[39m\u001b[38;5;124m\"\u001b[39m, result)  \u001b[38;5;66;03m# This line will not be executed due to the exception\u001b[39;00m\n",
      "Cell \u001b[1;32mIn[3], line 4\u001b[0m, in \u001b[0;36mdivide_numbers\u001b[1;34m(num1, num2)\u001b[0m\n\u001b[0;32m      2\u001b[0m \u001b[38;5;28;01mdef\u001b[39;00m \u001b[38;5;21mdivide_numbers\u001b[39m(num1, num2):\n\u001b[0;32m      3\u001b[0m     \u001b[38;5;28;01mif\u001b[39;00m num2 \u001b[38;5;241m==\u001b[39m \u001b[38;5;241m0\u001b[39m:\n\u001b[1;32m----> 4\u001b[0m         \u001b[38;5;28;01mraise\u001b[39;00m \u001b[38;5;167;01mZeroDivisionError\u001b[39;00m(\u001b[38;5;124m\"\u001b[39m\u001b[38;5;124mCannot divide by zero!\u001b[39m\u001b[38;5;124m\"\u001b[39m)  \u001b[38;5;66;03m# Explicitly raise an exception\u001b[39;00m\n\u001b[0;32m      5\u001b[0m     \u001b[38;5;28;01mreturn\u001b[39;00m num1 \u001b[38;5;241m/\u001b[39m num2\n",
      "\u001b[1;31mZeroDivisionError\u001b[0m: Cannot divide by zero!"
     ]
    }
   ],
   "source": [
    "# Method that raises an exception\n",
    "def divide_numbers(num1, num2):\n",
    "    if num2 == 0:\n",
    "        raise ZeroDivisionError(\"Cannot divide by zero!\")  \n",
    "    return num1 / num2\n",
    "print(\"Starting program...\")\n",
    "result = divide_numbers(10, 0) \n",
    "\n",
    "print(\"Result:\", result)  \n"
   ]
  },
  {
   "cell_type": "code",
   "execution_count": 4,
   "id": "19dad733-d992-47ba-bd28-0f61091007f0",
   "metadata": {},
   "outputs": [
    {
     "name": "stdout",
     "output_type": "stream",
     "text": [
      "Error: division by zero - Division by zero is not allowed.\n"
     ]
    }
   ],
   "source": [
    "#4. Write a program with multiple catch blocks\n",
    "def perform_operations():\n",
    "    num1 = 10\n",
    "    num2 = 0 \n",
    "    try:\n",
    "        result = num1 / num2\n",
    "        print(f\"Result of division: {result}\")\n",
    "        my_list = []\n",
    "        print(f\"Accessing an element in list: {my_list[0]}\")\n",
    "    except ZeroDivisionError as e:\n",
    "        print(f\"Error: {e} - Division by zero is not allowed.\")\n",
    "    except IndexError as e:\n",
    "        print(f\"Error: {e} - Index out of range in list.\")\n",
    "    except Exception as e:\n",
    "        print(f\"An unexpected error occurred: {e}\")\n",
    "perform_operations()\n"
   ]
  },
  {
   "cell_type": "code",
   "execution_count": 6,
   "id": "d68dcaec-d652-497d-be86-b680f40fe763",
   "metadata": {},
   "outputs": [
    {
     "name": "stdin",
     "output_type": "stream",
     "text": [
      "Enter a number:  5\n"
     ]
    },
    {
     "name": "stdout",
     "output_type": "stream",
     "text": [
      "The number is positive!\n"
     ]
    }
   ],
   "source": [
    "#5. Write a program to throw exception with your own message\n",
    "def check_positive_number(number):\n",
    "    if number < 0:\n",
    "        raise ValueError(\"Error: The number cannot be negative. Please enter a positive number.\")\n",
    "    else:\n",
    "        print(\"The number is positive!\")\n",
    "try:\n",
    "    num = int(input(\"Enter a number: \"))\n",
    "    check_positive_number(num)\n",
    "except ValueError as e:\n",
    "    print(f\"Caught exception: {e}\")\n"
   ]
  },
  {
   "cell_type": "code",
   "execution_count": 7,
   "id": "47be8509-02ac-4cf8-bbb1-789e518654f6",
   "metadata": {},
   "outputs": [
    {
     "name": "stdin",
     "output_type": "stream",
     "text": [
      "Enter a number:  20\n"
     ]
    },
    {
     "name": "stdout",
     "output_type": "stream",
     "text": [
      "The number 20 is positive!\n"
     ]
    }
   ],
   "source": [
    "#6. Write a program to create your own exception\n",
    "class NegativeNumberError(Exception):\n",
    "    def __init__(self, message):\n",
    "        self.message = message\n",
    "        super().__init__(self.message)\n",
    "def check_positive_number(number):\n",
    "    if number < 0:\n",
    "        raise NegativeNumberError(\"Error: The number cannot be negative. Please enter a positive number.\")\n",
    "    else:\n",
    "        print(f\"The number {number} is positive!\")\n",
    "try:\n",
    "    num = int(input(\"Enter a number: \"))\n",
    "    check_positive_number(num)\n",
    "except NegativeNumberError as e:\n",
    "    print(f\"Caught custom exception: {e}\")\n"
   ]
  },
  {
   "cell_type": "code",
   "execution_count": 8,
   "id": "a1d788b4-a096-429b-915a-cb6a829f5da4",
   "metadata": {},
   "outputs": [
    {
     "name": "stdout",
     "output_type": "stream",
     "text": [
      "Starting program...\n",
      "The result of 10 divided by 2 is: 5.0\n",
      "Execution completed. Cleaning up resources.\n",
      "\n",
      "---\n",
      "Error: Cannot divide by zero! division by zero\n",
      "Execution completed. Cleaning up resources.\n"
     ]
    }
   ],
   "source": [
    "#7. Write a program with finally block\n",
    "def divide_numbers(num1, num2):\n",
    "    try:\n",
    "        result = num1 / num2\n",
    "        print(f\"The result of {num1} divided by {num2} is: {result}\")\n",
    "    \n",
    "    except ZeroDivisionError as e:\n",
    "        print(f\"Error: Cannot divide by zero! {e}\")\n",
    "    \n",
    "    finally:\n",
    "        print(\"Execution completed. Cleaning up resources.\")\n",
    "print(\"Starting program...\")\n",
    "divide_numbers(10, 2) \n",
    "print(\"\\n---\")\n",
    "divide_numbers(10, 0)\n"
   ]
  },
  {
   "cell_type": "code",
   "execution_count": 9,
   "id": "a010664d-38a7-42c6-8950-0868a2d464b7",
   "metadata": {},
   "outputs": [
    {
     "name": "stdout",
     "output_type": "stream",
     "text": [
      "Starting program...\n"
     ]
    },
    {
     "ename": "ZeroDivisionError",
     "evalue": "division by zero",
     "output_type": "error",
     "traceback": [
      "\u001b[1;31m---------------------------------------------------------------------------\u001b[0m",
      "\u001b[1;31mZeroDivisionError\u001b[0m                         Traceback (most recent call last)",
      "Cell \u001b[1;32mIn[9], line 13\u001b[0m\n\u001b[0;32m     11\u001b[0m \u001b[38;5;66;03m# Main program that calls the function\u001b[39;00m\n\u001b[0;32m     12\u001b[0m \u001b[38;5;28mprint\u001b[39m(\u001b[38;5;124m\"\u001b[39m\u001b[38;5;124mStarting program...\u001b[39m\u001b[38;5;124m\"\u001b[39m)\n\u001b[1;32m---> 13\u001b[0m \u001b[43mgenerate_arithmetic_exception\u001b[49m\u001b[43m(\u001b[49m\u001b[43m)\u001b[49m\n",
      "Cell \u001b[1;32mIn[9], line 8\u001b[0m, in \u001b[0;36mgenerate_arithmetic_exception\u001b[1;34m()\u001b[0m\n\u001b[0;32m      5\u001b[0m num2 \u001b[38;5;241m=\u001b[39m \u001b[38;5;241m0\u001b[39m  \u001b[38;5;66;03m# Setting num2 to zero will cause a division by zero error\u001b[39;00m\n\u001b[0;32m      7\u001b[0m \u001b[38;5;66;03m# Attempt to divide by zero, which will raise a ZeroDivisionError\u001b[39;00m\n\u001b[1;32m----> 8\u001b[0m result \u001b[38;5;241m=\u001b[39m \u001b[43mnum1\u001b[49m\u001b[43m \u001b[49m\u001b[38;5;241;43m/\u001b[39;49m\u001b[43m \u001b[49m\u001b[43mnum2\u001b[49m\n\u001b[0;32m      9\u001b[0m \u001b[38;5;28mprint\u001b[39m(\u001b[38;5;124m\"\u001b[39m\u001b[38;5;124mResult:\u001b[39m\u001b[38;5;124m\"\u001b[39m, result)\n",
      "\u001b[1;31mZeroDivisionError\u001b[0m: division by zero"
     ]
    }
   ],
   "source": [
    "#8. Write a program to generate Arithmetic Exception\n",
    "def generate_arithmetic_exception():\n",
    "    num1 = 10\n",
    "    num2 = 0  \n",
    "    result = num1 / num2\n",
    "    print(\"Result:\", result)\n",
    "print(\"Starting program...\")\n",
    "generate_arithmetic_exception()\n"
   ]
  },
  {
   "cell_type": "code",
   "execution_count": 10,
   "id": "bef95566-82b9-4fe1-83c2-b95d087cdcf6",
   "metadata": {},
   "outputs": [
    {
     "name": "stdout",
     "output_type": "stream",
     "text": [
      "Starting program...\n",
      "FileNotFoundError: [Errno 2] No such file or directory: 'non_existent_file.txt'\n"
     ]
    }
   ],
   "source": [
    "#9. Write a program to generate FileNotFoundException\n",
    "def generate_file_not_found_exception():\n",
    "    try:\n",
    "        with open('non_existent_file.txt', 'r') as file:\n",
    "            content = file.read()\n",
    "            print(content)\n",
    "    except FileNotFoundError as e:\n",
    "        print(f\"FileNotFoundError: {e}\")\n",
    "print(\"Starting program...\")\n",
    "generate_file_not_found_exception()\n"
   ]
  },
  {
   "cell_type": "code",
   "execution_count": 11,
   "id": "77591f0a-a39b-4d0b-b2f3-b2d00c25b680",
   "metadata": {},
   "outputs": [
    {
     "name": "stdout",
     "output_type": "stream",
     "text": [
      "Starting program...\n",
      "ModuleNotFoundError: No module named 'non_existent_module'\n"
     ]
    }
   ],
   "source": [
    "#10. Write a program to generate ClassNotFoundException\n",
    "def generate_class_not_found_exception():\n",
    "    try:\n",
    "        module_name = 'non_existent_module'\n",
    "        __import__(module_name)\n",
    "        print(f\"Module {module_name} imported successfully.\")\n",
    "    \n",
    "    except ModuleNotFoundError as e:\n",
    "        print(f\"ModuleNotFoundError: {e}\")\n",
    "print(\"Starting program...\")\n",
    "generate_class_not_found_exception()\n"
   ]
  },
  {
   "cell_type": "code",
   "execution_count": 12,
   "id": "d38e5d9d-d408-4682-80ed-a6bcc3b30459",
   "metadata": {},
   "outputs": [
    {
     "name": "stdout",
     "output_type": "stream",
     "text": [
      "Starting program...\n",
      "Writing to the file was successful.\n"
     ]
    }
   ],
   "source": [
    "#11. Write a program to generate IOException \n",
    "def generate_io_exception():\n",
    "    try:\n",
    "        with open('read_only_file.txt', 'w') as file:\n",
    "            file.write(\"Trying to write to a file\")\n",
    "            print(\"Writing to the file was successful.\")\n",
    "    except IOError as e:\n",
    "        print(f\"IOError: {e}\")\n",
    "print(\"Starting program...\")\n",
    "generate_io_exception()\n"
   ]
  },
  {
   "cell_type": "code",
   "execution_count": 13,
   "id": "b95edf46-fefe-47f7-8ce0-c254c5d2aed5",
   "metadata": {},
   "outputs": [
    {
     "name": "stdout",
     "output_type": "stream",
     "text": [
      "Starting program...\n",
      "AttributeError: 'Student' object has no attribute 'grade'\n"
     ]
    }
   ],
   "source": [
    "#12. Write a program to generate NoSuchFieldException\n",
    "class Student:\n",
    "    def __init__(self, name, age):\n",
    "        self.name = name\n",
    "        self.age = age\n",
    "def generate_no_such_field_exception():\n",
    "    student = Student(\"John Doe\", 20)\n",
    "    \n",
    "    try:\n",
    "        print(student.grade)\n",
    "    \n",
    "    except AttributeError as e:\n",
    "        print(f\"AttributeError: {e}\")\n",
    "print(\"Starting program...\")\n",
    "generate_no_such_field_exception()\n"
   ]
  },
  {
   "cell_type": "code",
   "execution_count": null,
   "id": "d072720a-6a91-46ff-b4ce-3edb95d531fd",
   "metadata": {},
   "outputs": [],
   "source": []
  }
 ],
 "metadata": {
  "kernelspec": {
   "display_name": "Python 3 (ipykernel)",
   "language": "python",
   "name": "python3"
  },
  "language_info": {
   "codemirror_mode": {
    "name": "ipython",
    "version": 3
   },
   "file_extension": ".py",
   "mimetype": "text/x-python",
   "name": "python",
   "nbconvert_exporter": "python",
   "pygments_lexer": "ipython3",
   "version": "3.12.0"
  }
 },
 "nbformat": 4,
 "nbformat_minor": 5
}
