{
 "cells": [
  {
   "cell_type": "code",
   "execution_count": 1,
   "id": "445dcb14-ca95-4c3f-bb1e-4cb5500972b1",
   "metadata": {},
   "outputs": [
    {
     "name": "stdout",
     "output_type": "stream",
     "text": [
      "Default constructor called: No arguments provided.\n",
      "Name: Default Name, Age: 0\n",
      "One-argument constructor called.\n",
      "Name: John Doe, Age: 0\n",
      "Two-argument constructor called.\n",
      "Name: Jane Smith, Age: 28\n"
     ]
    }
   ],
   "source": [
    "#1. Write a class with a default constructor, one argument constructor and two argument \n",
    "#constructors. Instantiate the class to call all the constructors of that class from a main \n",
    "#class\n",
    "class MyClass:\n",
    "    def __init__(self, arg1=None, arg2=None):\n",
    "        if arg1 is None and arg2 is None:\n",
    "            print(\"Default constructor called: No arguments provided.\")\n",
    "            self.name = \"Default Name\"\n",
    "            self.age = 0\n",
    "        elif arg2 is None:\n",
    "            print(\"One-argument constructor called.\")\n",
    "            self.name = arg1\n",
    "            self.age = 0\n",
    "        else:\n",
    "            print(\"Two-argument constructor called.\")\n",
    "            self.name = arg1\n",
    "            self.age = arg2\n",
    "\n",
    "    def display(self):\n",
    "        print(f\"Name: {self.name}, Age: {self.age}\"))\n",
    "obj1 = MyClass()\n",
    "obj1.display()\n",
    "obj2 = MyClass(\"John Doe\")\n",
    "obj2.display()  \n",
    "obj3 = MyClass(\"Jane Smith\", 28)\n",
    "obj3.display() \n"
   ]
  },
  {
   "cell_type": "code",
   "execution_count": 2,
   "id": "b7da4762-2d2e-40e3-b262-c712abeedaa8",
   "metadata": {},
   "outputs": [
    {
     "name": "stdout",
     "output_type": "stream",
     "text": [
      "SuperClass Default Constructor Called: No arguments provided.\n",
      "ChildClass Constructor Called\n",
      "Name: Default Name, Age: 0\n",
      "SuperClass One-Argument Constructor Called.\n",
      "ChildClass Constructor Called\n",
      "Name: John Doe, Age: 0\n",
      "SuperClass Two-Argument Constructor Called.\n",
      "ChildClass Constructor Called\n",
      "Name: Jane Smith, Age: 28\n"
     ]
    }
   ],
   "source": [
    "#2. Call the constructors(both default and argument constructors) of super class from a child \n",
    "#class\n",
    "class SuperClass:\n",
    "    def __init__(self, name=None, age=None):\n",
    "        if name is None and age is None:\n",
    "            print(\"SuperClass Default Constructor Called: No arguments provided.\")\n",
    "            self.name = \"Default Name\"\n",
    "            self.age = 0\n",
    "        elif age is None:\n",
    "            print(\"SuperClass One-Argument Constructor Called.\")\n",
    "            self.name = name\n",
    "            self.age = 0\n",
    "        else:\n",
    "            print(\"SuperClass Two-Argument Constructor Called.\")\n",
    "            self.name = name\n",
    "            self.age = age\n",
    "\n",
    "    def display(self):\n",
    "        print(f\"Name: {self.name}, Age: {self.age}\")\n",
    "class ChildClass(SuperClass):\n",
    "    def __init__(self, name=None, age=None):\n",
    "        if name is None and age is None:\n",
    "            super().__init__() \n",
    "        elif age is None:\n",
    "            super().__init__(name) \n",
    "        else:\n",
    "            super().__init__(name, age)  \n",
    "        print(\"ChildClass Constructor Called\")\n",
    "\n",
    "    def display(self):\n",
    "        super().display() \n",
    "child1 = ChildClass()\n",
    "child1.display()\n",
    "child2 = ChildClass(\"John Doe\")\n",
    "child2.display() \n",
    "child3 = ChildClass(\"Jane Smith\", 28)\n",
    "child3.display() "
   ]
  },
  {
   "cell_type": "code",
   "execution_count": 6,
   "id": "c9ea6b1f-f0b6-43a0-a4d1-573f3a6a601d",
   "metadata": {},
   "outputs": [
    {
     "name": "stdout",
     "output_type": "stream",
     "text": [
      "Public Constructor Called\n",
      "Protected Constructor Called\n",
      "Error: 'ChildClass' object has no attribute '_ChildClass__private_init'\n",
      "Name: John, Age: 30\n",
      "Protected Name: John, Protected Age: 30\n"
     ]
    }
   ],
   "source": [
    "#3. Apply private, public, protected and default access modifiers to the constructor\n",
    "class MyClass:\n",
    "    def __init__(self, name=\"Public Name\", age=0):\n",
    "        print(\"Public Constructor Called\")\n",
    "        self.name = name\n",
    "        self.age = age  \n",
    "    def _protected_init(self, name=\"Protected Name\", age=0):\n",
    "        print(\"Protected Constructor Called\")\n",
    "        self._name = name  \n",
    "        self._age = age \n",
    "\n",
    "    def __private_init(self, name=\"Private Name\", age=0):\n",
    "        print(\"Private Constructor Called\")\n",
    "        self.__name = name \n",
    "        self.__age = age  \n",
    "    def display(self):\n",
    "        print(f\"Name: {self.name}, Age: {self.age}\")\n",
    "class ChildClass(MyClass):\n",
    "     def __init__(self, name=\"Child\", age=20):\n",
    "        super().__init__(name, age)\n",
    "        self._protected_init(name, age)\n",
    "        try:\n",
    "            self.__private_init(name, age)  \n",
    "        except AttributeError as e:\n",
    "            print(f\"Error: {e}\")\n",
    "\n",
    "     def display(self):\n",
    "        super().display() \n",
    "        print(f\"Protected Name: {self._name}, Protected Age: {self._age}\")\n",
    "child = ChildClass(\"John\", 30)\n",
    "child.display()\n"
   ]
  },
  {
   "cell_type": "code",
   "execution_count": 8,
   "id": "1fb500d7-5c0e-4462-ac2d-f4fd985a2ca5",
   "metadata": {},
   "outputs": [
    {
     "name": "stdout",
     "output_type": "stream",
     "text": [
      "Name: John Doe, Age: 30, Gender: Male, Nationality: Unknown, Species: Homo sapiens\n",
      "Name: Jane Smith, Age: 25, Gender: Not Specified, Nationality: Unknown, Species: Homo sapiens\n",
      "Name: John Doe, Age: 30, Gender: Male, Nationality: American, Species: Homo sapiens\n",
      "Species for person1: Homo sapiens\n",
      "Species for person2: Homo sapiens\n"
     ]
    }
   ],
   "source": [
    "#4. Write a program which illustrates the concept of attributes of a constructor.\n",
    "class Person:\n",
    "    species = \"Homo sapiens\"\n",
    "    def __init__(self, name, age, gender=\"Not Specified\"):\n",
    "        self.name = name   \n",
    "        self.age = age        \n",
    "        self.gender = gender \n",
    "        self.nationality = \"Unknown\"  \n",
    "    def display(self):\n",
    "        print(f\"Name: {self.name}, Age: {self.age}, Gender: {self.gender}, Nationality: {self.nationality}, Species: {Person.species}\")\n",
    "\n",
    "    def update_nationality(self, nationality):\n",
    "        self.nationality = nationality\n",
    "person1 = Person(\"John Doe\", 30, \"Male\")\n",
    "person2 = Person(\"Jane Smith\", 25)\n",
    "person1.display()\n",
    "person2.display()\n",
    "person1.update_nationality(\"American\")\n",
    "person1.display() \n",
    "print(f\"Species for person1: {person1.species}\")\n",
    "print(f\"Species for person2: {person2.species}\")\n"
   ]
  },
  {
   "cell_type": "code",
   "execution_count": null,
   "id": "1940ae81-24d6-406f-9a4b-ca5b7c241900",
   "metadata": {},
   "outputs": [],
   "source": []
  }
 ],
 "metadata": {
  "kernelspec": {
   "display_name": "Python 3 (ipykernel)",
   "language": "python",
   "name": "python3"
  },
  "language_info": {
   "codemirror_mode": {
    "name": "ipython",
    "version": 3
   },
   "file_extension": ".py",
   "mimetype": "text/x-python",
   "name": "python",
   "nbconvert_exporter": "python",
   "pygments_lexer": "ipython3",
   "version": "3.12.0"
  }
 },
 "nbformat": 4,
 "nbformat_minor": 5
}
