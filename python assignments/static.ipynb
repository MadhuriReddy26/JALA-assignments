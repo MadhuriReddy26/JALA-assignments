{
 "cells": [
  {
   "cell_type": "code",
   "execution_count": 8,
   "id": "36bf12f6-ad80-433c-9d38-90ebc04c6f6f",
   "metadata": {},
   "outputs": [
    {
     "name": "stdout",
     "output_type": "stream",
     "text": [
      "2 3 10\n"
     ]
    }
   ],
   "source": [
    "#1. Define a static variable and access that through a class\n",
    "class A:\n",
    "    c=10\n",
    "    def __init__(s,a,b):\n",
    "        s.a=a\n",
    "        s.b=b\n",
    "    def disp(s):\n",
    "        print(s.a,s.b,A.c)\n",
    "ob=A(2,3)\n",
    "ob.disp()\n",
    "    "
   ]
  },
  {
   "cell_type": "code",
   "execution_count": 5,
   "id": "e9ce76dc-d9be-450b-951f-3f3f827f8f8c",
   "metadata": {},
   "outputs": [
    {
     "name": "stdout",
     "output_type": "stream",
     "text": [
      "2 3 10\n"
     ]
    }
   ],
   "source": [
    "#2. Define a static variable and access that through a instance\n",
    "class A:\n",
    "    c=10\n",
    "    def __init__(s,a,b):\n",
    "        s.a=a\n",
    "        s.b=b\n",
    "    def disp(s):\n",
    "        print(s.a,s.b,s.c)\n",
    "ob=A(2,3)\n",
    "ob.disp()"
   ]
  },
  {
   "cell_type": "code",
   "execution_count": 6,
   "id": "3b555bb3-6ca0-41d6-b6ed-48a61165e875",
   "metadata": {},
   "outputs": [
    {
     "name": "stdout",
     "output_type": "stream",
     "text": [
      "2 3 20\n"
     ]
    }
   ],
   "source": [
    "#3. Define a static variable and change within the instance\n",
    "class A:\n",
    "    c=10\n",
    "    def __init__(s,a,b):\n",
    "        s.a=a\n",
    "        s.b=b\n",
    "        s.c=20\n",
    "    def disp(s):\n",
    "        print(s.a,s.b,s.c)\n",
    "ob=A(2,3)\n",
    "ob.disp()"
   ]
  },
  {
   "cell_type": "code",
   "execution_count": 12,
   "id": "3ad1bf0c-5c2f-496f-9e7b-d20796cc12b9",
   "metadata": {},
   "outputs": [
    {
     "name": "stdout",
     "output_type": "stream",
     "text": [
      "2 3 25\n"
     ]
    }
   ],
   "source": [
    "#4. Define a static variable and change within the class\n",
    "class A:\n",
    "    c=10\n",
    "    def __init__(s,a,b):\n",
    "        s.a=a\n",
    "        s.b=b\n",
    "    def disp(s):\n",
    "        c=25\n",
    "        print(s.a,s.b,c)\n",
    "ob=A(2,3)\n",
    "ob.disp()\n",
    "    \n"
   ]
  },
  {
   "cell_type": "code",
   "execution_count": null,
   "id": "15e25c02-bbf7-4fd3-b631-39498330e616",
   "metadata": {},
   "outputs": [],
   "source": []
  }
 ],
 "metadata": {
  "kernelspec": {
   "display_name": "Python 3 (ipykernel)",
   "language": "python",
   "name": "python3"
  },
  "language_info": {
   "codemirror_mode": {
    "name": "ipython",
    "version": 3
   },
   "file_extension": ".py",
   "mimetype": "text/x-python",
   "name": "python",
   "nbconvert_exporter": "python",
   "pygments_lexer": "ipython3",
   "version": "3.12.0"
  }
 },
 "nbformat": 4,
 "nbformat_minor": 5
}
