{
 "cells": [
  {
   "cell_type": "code",
   "execution_count": 1,
   "id": "2873b2fe-c5e7-4a4e-b205-f08dcc2899b2",
   "metadata": {},
   "outputs": [
    {
     "name": "stdout",
     "output_type": "stream",
     "text": [
      "ClassOne - Name: John Doe, Age: 30\n",
      "ClassTwo - Title: Python Programming, Year: 2024\n"
     ]
    }
   ],
   "source": [
    "#1. Create a program to create two class.\n",
    "#         1.1. Create a constructor and a method for each class\n",
    "class ClassOne:\n",
    "    def __init__(self, name, age):\n",
    "        self.name = name\n",
    "        self.age = age\n",
    "    \n",
    "    def display_info(self):\n",
    "        print(f\"ClassOne - Name: {self.name}, Age: {self.age}\")\n",
    "class ClassTwo:\n",
    "    def __init__(self, title, year):\n",
    "        self.title = title\n",
    "        self.year = year\n",
    "    \n",
    "    def show_details(self):\n",
    "        print(f\"ClassTwo - Title: {self.title}, Year: {self.year}\")\n",
    "person = ClassOne(\"John Doe\", 30)\n",
    "person.display_info()\n",
    "book = ClassTwo(\"Python Programming\", 2024)\n",
    "book.show_details()\n"
   ]
  },
  {
   "cell_type": "code",
   "execution_count": null,
   "id": "ab5de6b5-2611-4324-9249-46b81b42c766",
   "metadata": {},
   "outputs": [],
   "source": [
    "#1.2. Create a __init__.py for adding all packages"
   ]
  },
  {
   "cell_type": "code",
   "execution_count": null,
   "id": "c02ea6cc-bf1b-4957-b579-f5659a5249dd",
   "metadata": {},
   "outputs": [],
   "source": [
    "#1.3. Import the respective packages"
   ]
  }
 ],
 "metadata": {
  "kernelspec": {
   "display_name": "Python 3 (ipykernel)",
   "language": "python",
   "name": "python3"
  },
  "language_info": {
   "codemirror_mode": {
    "name": "ipython",
    "version": 3
   },
   "file_extension": ".py",
   "mimetype": "text/x-python",
   "name": "python",
   "nbconvert_exporter": "python",
   "pygments_lexer": "ipython3",
   "version": "3.12.0"
  }
 },
 "nbformat": 4,
 "nbformat_minor": 5
}
