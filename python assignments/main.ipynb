{
 "cells": [
  {
   "cell_type": "code",
   "execution_count": 1,
   "id": "544364ed-73fc-4753-988a-ce2ee9f6330b",
   "metadata": {},
   "outputs": [
    {
     "name": "stdout",
     "output_type": "stream",
     "text": [
      "my_package has been initialized!\n",
      "ClassOne - Name: John Doe, Age: 30\n",
      "ClassTwo - Title: Python Programming, Year: 2024\n"
     ]
    }
   ],
   "source": [
    "# In main.ipynb\n",
    "\n",
    "# First, add the package path to sys.path so Python can find the package\n",
    "import sys\n",
    "import os\n",
    "\n",
    "# Add the directory where 'my_package' is located to the sys.path\n",
    "sys.path.append(os.path.abspath('./my_package'))\n",
    "\n",
    "# Now you can import the classes from the package\n",
    "from my_package import ClassOne, ClassTwo\n",
    "\n",
    "# Create objects and call their methods\n",
    "person = ClassOne(\"John Doe\", 30)\n",
    "person.display_info()\n",
    "\n",
    "book = ClassTwo(\"Python Programming\", 2024)\n",
    "book.show_details()\n"
   ]
  },
  {
   "cell_type": "code",
   "execution_count": 2,
   "id": "799e2bba-7a57-49c6-ac34-639cb2df0a46",
   "metadata": {},
   "outputs": [
    {
     "name": "stdout",
     "output_type": "stream",
     "text": [
      "ClassOne - Name: John Doe, Age: 30\n",
      "ClassTwo - Title: Python Programming, Year: 2024\n"
     ]
    }
   ],
   "source": [
    "# Step 1: Import sys and os to add the package to sys.path\n",
    "import sys\n",
    "import os\n",
    "\n",
    "# Add the current working directory to sys.path\n",
    "sys.path.append(os.path.abspath('.'))\n",
    "\n",
    "# Step 2: Import the classes from the package\n",
    "from my_package import ClassOne, ClassTwo\n",
    "\n",
    "# Step 3: Create objects and call their methods\n",
    "person = ClassOne(\"John Doe\", 30)\n",
    "person.display_info()\n",
    "\n",
    "book = ClassTwo(\"Python Programming\", 2024)\n",
    "book.show_details()\n"
   ]
  },
  {
   "cell_type": "code",
   "execution_count": null,
   "id": "1fec3a8c-df60-4645-9bfa-9aaa8e385b17",
   "metadata": {},
   "outputs": [],
   "source": []
  }
 ],
 "metadata": {
  "kernelspec": {
   "display_name": "Python 3 (ipykernel)",
   "language": "python",
   "name": "python3"
  },
  "language_info": {
   "codemirror_mode": {
    "name": "ipython",
    "version": 3
   },
   "file_extension": ".py",
   "mimetype": "text/x-python",
   "name": "python",
   "nbconvert_exporter": "python",
   "pygments_lexer": "ipython3",
   "version": "3.12.0"
  }
 },
 "nbformat": 4,
 "nbformat_minor": 5
}
