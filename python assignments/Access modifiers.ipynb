{
 "cells": [
  {
   "cell_type": "code",
   "execution_count": 19,
   "id": "bac09879-faa7-4f1b-8794-34c5c57b07a0",
   "metadata": {},
   "outputs": [
    {
     "name": "stdout",
     "output_type": "stream",
     "text": [
      "This is a private field in A\n",
      "This is a private method in A\n",
      "\n",
      "Creating an object of class B (subclass):\n",
      "Cannot access private field '__private_field' directly from subclass.\n",
      "Cannot access private method '__private_method' directly from subclass.\n"
     ]
    }
   ],
   "source": [
    "#1. Create a class with PRIVATE fields, private method and a main method. Print the fields \n",
    "#in main method. Call the private method in main method.\n",
    "\n",
    "#Create a sub class and try to access the private fields and methods from sub class.\n",
    "class A:\n",
    "    def __init__(self):\n",
    "        self.__private_field = \"This is a private field in A\"\n",
    "    \n",
    "    def __private_method(self):\n",
    "        print(\"This is a private method in A\")\n",
    "    \n",
    "    def public_method(self):\n",
    "        print(\"This is a public method in A\")\n",
    "\n",
    "    def print_private_field(self):\n",
    "        print(self.__private_field)\n",
    "\n",
    "    def call_private_method(self):\n",
    "        self.__private_method()\n",
    "\n",
    "\n",
    "class B(A):\n",
    "    def __init__(self):\n",
    "        super().__init__()\n",
    "\n",
    "    def try_access_private(self):\n",
    "        try:\n",
    "            print(self.__private_field)  \n",
    "        except AttributeError:\n",
    "            print(\"Cannot access private field '__private_field' directly from subclass.\")\n",
    "        \n",
    "        try:\n",
    "            self.__private_method()  \n",
    "        except AttributeError:\n",
    "            print(\"Cannot access private method '__private_method' directly from subclass.\")\n",
    "def main():\n",
    "    objA = A()\n",
    "    objA.print_private_field()\n",
    "    objA.call_private_method()  \n",
    "    \n",
    "    print(\"\\nCreating an object of class B (subclass):\")\n",
    "    objB = B()\n",
    "    objB.try_access_private() \n",
    "\n",
    "\n",
    "if __name__ == \"__main__\":\n",
    "    main()\n"
   ]
  },
  {
   "cell_type": "code",
   "execution_count": 15,
   "id": "e8e20a02-6a04-440e-afce-0c239642f799",
   "metadata": {},
   "outputs": [],
   "source": [
    "#2. Create a class with PROTECTED fields and methods. Access these fields and methods \n",
    "#from any other class in the same package. \n",
    "\n",
    "#Also, Access the PROTECTED fields and methods from child class located in a different \n",
    "#package\n",
    "\n",
    "#Access the PROTECTED fields and methods from any class in different package\n",
    "# parent_class.py (in package1)\n",
    "\n"
   ]
  },
  {
   "cell_type": "code",
   "execution_count": 12,
   "id": "01d3b6e2-1988-4734-92fb-136bda98a0e2",
   "metadata": {},
   "outputs": [],
   "source": [
    "class ParentClass:\n",
    "    def __init__(self):  \n",
    "        self.public_field = \"This is a public field\"\n",
    "    def public_method(self):\n",
    "        print(\"This is a public method\")\n",
    "    def another_public_method(self):\n",
    "        print(\"This is another public method\")\n"
   ]
  },
  {
   "cell_type": "code",
   "execution_count": 13,
   "id": "b6171b36-9c88-4797-8d97-0db1001e9504",
   "metadata": {},
   "outputs": [
    {
     "name": "stdout",
     "output_type": "stream",
     "text": [
      "This is a public field\n",
      "This is a public method\n",
      "This is another public method\n"
     ]
    }
   ],
   "source": [
    "class SamePackageClass:\n",
    "    def __init__(self):\n",
    "        self.parent = ParentClass()\n",
    "    def access_public(self):\n",
    "        print(self.parent.public_field)  \n",
    "        self.parent.public_method()      \n",
    "        self.parent.another_public_method() \n",
    "same_package = SamePackageClass()\n",
    "same_package.access_public()\n"
   ]
  },
  {
   "cell_type": "code",
   "execution_count": 14,
   "id": "6ee37076-62ee-476a-9fff-cadf516faf22",
   "metadata": {},
   "outputs": [
    {
     "name": "stdout",
     "output_type": "stream",
     "text": [
      "This is a public field\n",
      "This is a public method\n",
      "This is another public method\n"
     ]
    }
   ],
   "source": [
    "class DifferentPackageClass:\n",
    "    def __init__(self):\n",
    "        self.parent = ParentClass()\n",
    "    def access_public(self):\n",
    "        print(self.parent.public_field) \n",
    "        self.parent.public_method()      \n",
    "        self.parent.another_public_method() \n",
    "different_package = DifferentPackageClass()\n",
    "different_package.access_public()\n"
   ]
  },
  {
   "cell_type": "code",
   "execution_count": null,
   "id": "85774a7e-cc2b-4ea9-b0f4-ede0c8dbc0dc",
   "metadata": {},
   "outputs": [],
   "source": [
    "#3. Create a class with PUBLIC fields and methods. \n",
    "\n",
    "#Access the public methods and fields from any class in the same package or different \n",
    "#package."
   ]
  },
  {
   "cell_type": "code",
   "execution_count": 16,
   "id": "d14ba52c-7763-4234-8265-e12f455ea339",
   "metadata": {},
   "outputs": [],
   "source": [
    "class ParentClass:\n",
    "    def __init__(self):\n",
    "        self.public_field = \"This is a public field\"\n",
    "    def public_method(self):\n",
    "        print(\"This is a public method\")\n",
    "    def another_public_method(self):\n",
    "        print(\"This is another public method\")\n"
   ]
  },
  {
   "cell_type": "code",
   "execution_count": 17,
   "id": "69beccfc-20ee-4b00-8c89-14a99b63c86f",
   "metadata": {},
   "outputs": [
    {
     "name": "stdout",
     "output_type": "stream",
     "text": [
      "This is a public field\n",
      "This is a public method\n",
      "This is another public method\n"
     ]
    }
   ],
   "source": [
    "class SamePackageClass:\n",
    "    def __init__(self):\n",
    "        self.parent = ParentClass()\n",
    "    def access_public(self):\n",
    "        print(self.parent.public_field)  \n",
    "        self.parent.public_method()      \n",
    "        self.parent.another_public_method()  \n",
    "same_package = SamePackageClass()\n",
    "same_package.access_public()\n"
   ]
  },
  {
   "cell_type": "code",
   "execution_count": 18,
   "id": "9976e5a2-62f1-44b0-b935-7f692dd5bc4b",
   "metadata": {},
   "outputs": [
    {
     "name": "stdout",
     "output_type": "stream",
     "text": [
      "This is a public field\n",
      "This is a public method\n",
      "This is another public method\n"
     ]
    }
   ],
   "source": [
    "class DifferentPackageClass:\n",
    "    def __init__(self):\n",
    "        self.parent = ParentClass()\n",
    "    def access_public(self):\n",
    "        print(self.parent.public_field)  \n",
    "        self.parent.public_method()     \n",
    "        self.parent.another_public_method()  \n",
    "different_package = DifferentPackageClass()\n",
    "different_package.access_public()\n"
   ]
  },
  {
   "cell_type": "code",
   "execution_count": null,
   "id": "3af3fb52-a07d-45fc-aaa5-06b64c8b6ff9",
   "metadata": {},
   "outputs": [],
   "source": []
  }
 ],
 "metadata": {
  "kernelspec": {
   "display_name": "Python 3 (ipykernel)",
   "language": "python",
   "name": "python3"
  },
  "language_info": {
   "codemirror_mode": {
    "name": "ipython",
    "version": 3
   },
   "file_extension": ".py",
   "mimetype": "text/x-python",
   "name": "python",
   "nbconvert_exporter": "python",
   "pygments_lexer": "ipython3",
   "version": "3.12.0"
  }
 },
 "nbformat": 4,
 "nbformat_minor": 5
}
