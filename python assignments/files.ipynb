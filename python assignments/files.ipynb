{
 "cells": [
  {
   "cell_type": "code",
   "execution_count": 8,
   "id": "ee3aedb2-cf5e-4b26-a7f0-ea3e7f242412",
   "metadata": {},
   "outputs": [
    {
     "name": "stdout",
     "output_type": "stream",
     "text": [
      "Hello world!\n",
      "\n"
     ]
    }
   ],
   "source": [
    "#1. Write a program to read text file\n",
    "with open('example.txt', 'r') as file:\n",
    "    content = file.read()\n",
    "    print(content)\n",
    "\n"
   ]
  },
  {
   "cell_type": "code",
   "execution_count": 9,
   "id": "cbb337b5-1e15-48d9-981e-88826eb5920e",
   "metadata": {},
   "outputs": [
    {
     "name": "stdout",
     "output_type": "stream",
     "text": [
      "Enter text to write to the file. Type 'exit' to stop.\n"
     ]
    },
    {
     "name": "stdin",
     "output_type": "stream",
     "text": [
      "Enter text:  Hello world!\n",
      "Enter text:  Welcome\n",
      "Enter text:  exit\n"
     ]
    },
    {
     "name": "stdout",
     "output_type": "stream",
     "text": [
      "Exiting...\n"
     ]
    }
   ],
   "source": [
    "#2. Write a program to write text to .txt file using InputStream\n",
    "with open('output.txt', 'w') as file:\n",
    "    print(\"Enter text to write to the file. Type 'exit' to stop.\") \n",
    "    while True:\n",
    "        user_input = input(\"Enter text: \")\n",
    "        if user_input.lower() == 'exit':\n",
    "            print(\"Exiting...\")\n",
    "            break\n",
    "        file.write(user_input + \"\\n\")\n"
   ]
  },
  {
   "cell_type": "code",
   "execution_count": 10,
   "id": "bdf4717d-ab1e-43aa-9b35-501f2516ba5e",
   "metadata": {},
   "outputs": [
    {
     "name": "stdout",
     "output_type": "stream",
     "text": [
      "Hello world!\n",
      "\n",
      "Hello world!\n",
      "Hello world!\n",
      "\n"
     ]
    }
   ],
   "source": [
    "#3. Write a program to read a file stream\n",
    "with open('example.txt', 'r') as file:\n",
    "    content = file.read()\n",
    "    print(content)\n",
    "#or\n",
    "with open('example.txt', 'r') as file:\n",
    "    for line in file:\n",
    "        print(line.strip())\n",
    "#or\n",
    "with open('example.txt', 'r') as file:\n",
    "    chunk_size = 50\n",
    "    while True:\n",
    "        chunk = file.read(chunk_size)\n",
    "        if not chunk:\n",
    "            break \n",
    "        print(chunk)\n",
    "\n",
    "\n"
   ]
  },
  {
   "cell_type": "code",
   "execution_count": 12,
   "id": "67022ea6-4b43-47df-95c1-7c11c373bb93",
   "metadata": {},
   "outputs": [
    {
     "name": "stdout",
     "output_type": "stream",
     "text": [
      "Current Position: 10\n",
      "Data read from position 10: d!\n",
      "\n",
      "Current Position: 0\n",
      "Data read from position 0: Hello worl\n",
      "Current Position: 8\n",
      "Data read from the last 5 bytes: rld!\n",
      "\n"
     ]
    }
   ],
   "source": [
    "#4. Write a program to read a file stream supports random access\n",
    "with open('example.txt', 'rb') as file:\n",
    "    file.seek(10)\n",
    "    print(\"Current Position:\", file.tell())\n",
    "    data = file.read(5)\n",
    "    print(f\"Data read from position 10: {data.decode('utf-8')}\") \n",
    "    file.seek(0)\n",
    "    print(\"Current Position:\", file.tell())\n",
    "    data = file.read(10)\n",
    "    print(f\"Data read from position 0: {data.decode('utf-8')}\")\n",
    "    file.seek(-5, 2)\n",
    "    print(\"Current Position:\", file.tell())\n",
    "    data = file.read(5)\n",
    "    print(f\"Data read from the last 5 bytes: {data.decode('utf-8')}\")\n",
    "\n"
   ]
  },
  {
   "cell_type": "code",
   "execution_count": 13,
   "id": "479b3842-77ca-4a14-9cd6-9165e99c2610",
   "metadata": {},
   "outputs": [
    {
     "name": "stdout",
     "output_type": "stream",
     "text": [
      "Current Position after seek: 15\n",
      "Data read from position 15: \n",
      "Current Position after second seek: 5\n",
      "Data read from position 5:  worl\n",
      "Current Position after moving 10 bytes from current position: 20\n",
      "Data read from the new position: \n"
     ]
    }
   ],
   "source": [
    "#5. Write a program to read a file a just to a particular index using seek()\n",
    "with open('example.txt', 'rb') as file:\n",
    "    position = 15\n",
    "    file.seek(position)  \n",
    "    print(f\"Current Position after seek: {file.tell()}\")\n",
    "    data = file.read(10)\n",
    "    print(f\"Data read from position {position}: {data.decode('utf-8')}\")\n",
    "    new_position = 5\n",
    "    file.seek(new_position)\n",
    "    print(f\"Current Position after second seek: {file.tell()}\")\n",
    "    data = file.read(5)\n",
    "    print(f\"Data read from position {new_position}: {data.decode('utf-8')}\")\n",
    "    file.seek(10, 1) \n",
    "    print(f\"Current Position after moving 10 bytes from current position: {file.tell()}\")\n",
    "    data = file.read(5)\n",
    "    print(f\"Data read from the new position: {data.decode('utf-8')}\")\n"
   ]
  },
  {
   "cell_type": "code",
   "execution_count": 14,
   "id": "9a99e2d7-5af8-4a7a-9fb7-92b5c0f1a457",
   "metadata": {},
   "outputs": [
    {
     "name": "stdout",
     "output_type": "stream",
     "text": [
      "The file 'example.txt' has read access.\n",
      "The file 'example.txt' has write access.\n"
     ]
    }
   ],
   "source": [
    "#6. Write a program to check whether a file is having read access and write access permissions\n",
    "import os\n",
    "\n",
    "def check_permissions(file_path):\n",
    "    if os.access(file_path, os.R_OK):\n",
    "        print(f\"The file '{file_path}' has read access.\")\n",
    "    else:\n",
    "        print(f\"The file '{file_path}' does not have read access.\")\n",
    "    if os.access(file_path, os.W_OK):\n",
    "        print(f\"The file '{file_path}' has write access.\")\n",
    "    else:\n",
    "        print(f\"The file '{file_path}' does not have write access.\")\n",
    "file_path = 'example.txt'\n",
    "check_permissions(file_path)\n"
   ]
  },
  {
   "cell_type": "code",
   "execution_count": null,
   "id": "2ae2bef2-4370-42f3-bcbd-7d6afa7014df",
   "metadata": {},
   "outputs": [],
   "source": []
  },
  {
   "cell_type": "code",
   "execution_count": null,
   "id": "d13d2f8b-9e1e-463f-a241-e171d92b9b6f",
   "metadata": {},
   "outputs": [],
   "source": []
  },
  {
   "cell_type": "code",
   "execution_count": null,
   "id": "88338978-f51a-4dcd-93e1-de99958d0607",
   "metadata": {},
   "outputs": [],
   "source": []
  },
  {
   "cell_type": "code",
   "execution_count": null,
   "id": "f56e0d26-b3b0-478d-96ed-e2662c48cd51",
   "metadata": {},
   "outputs": [],
   "source": []
  },
  {
   "cell_type": "code",
   "execution_count": null,
   "id": "ae8becf5-23bd-4899-9117-1bfe6aba30b0",
   "metadata": {},
   "outputs": [],
   "source": []
  }
 ],
 "metadata": {
  "kernelspec": {
   "display_name": "Python 3 (ipykernel)",
   "language": "python",
   "name": "python3"
  },
  "language_info": {
   "codemirror_mode": {
    "name": "ipython",
    "version": 3
   },
   "file_extension": ".py",
   "mimetype": "text/x-python",
   "name": "python",
   "nbconvert_exporter": "python",
   "pygments_lexer": "ipython3",
   "version": "3.12.0"
  }
 },
 "nbformat": 4,
 "nbformat_minor": 5
}
