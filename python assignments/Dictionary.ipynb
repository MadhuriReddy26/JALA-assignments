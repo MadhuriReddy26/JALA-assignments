{
 "cells": [
  {
   "cell_type": "code",
   "execution_count": null,
   "id": "5f5f83e7-e0f7-47f6-a3f0-c8a19fcae88e",
   "metadata": {},
   "outputs": [],
   "source": [
    "1. Create a Dictionary with at least 5 key value pairs of the Student ID and Name\n",
    "1.1. Adding the values in dictionary\n",
    "1.2. Updating the values in dictionary\n",
    "1.3. Accessing the value in dictionary\n",
    "1.4. Create a nested loop dictionary\n",
    "1.5. Access the values of nested loop dictionary\n",
    "1.6. Print the keys present in a particular dictionary\n",
    "1.7. Delete a value from a dictionary"
   ]
  },
  {
   "cell_type": "code",
   "execution_count": 1,
   "id": "654031a1-3860-425b-9d6c-a2e5f25be27f",
   "metadata": {},
   "outputs": [
    {
     "name": "stdout",
     "output_type": "stream",
     "text": [
      "Original Dictionary:\n",
      "{101: 'Alice', 102: 'Bob', 103: 'Charlie', 104: 'David', 105: 'Eva'}\n",
      "\n",
      "Updated Dictionary after adding new entry:\n",
      "{101: 'Alice', 102: 'Bob', 103: 'Charlie', 104: 'David', 105: 'Eva', 106: 'Frank'}\n",
      "\n",
      "Updated Dictionary after modifying an entry:\n",
      "{101: 'Alice', 102: 'Bob', 103: 'Chuck', 104: 'David', 105: 'Eva', 106: 'Frank'}\n",
      "\n",
      "Accessed Value for Student ID 101:\n",
      "Alice\n",
      "\n",
      "Nested Dictionary:\n",
      "{101: {'name': 'Alice', 'age': 20, 'major': 'Computer Science'}, 102: {'name': 'Bob', 'age': 22, 'major': 'Mathematics'}, 103: {'name': 'Charlie', 'age': 21, 'major': 'Physics'}, 104: {'name': 'David', 'age': 23, 'major': 'Chemistry'}, 105: {'name': 'Eva', 'age': 22, 'major': 'Biology'}}\n",
      "\n",
      "Accessed Values for Student ID 103:\n",
      "Name: Charlie, Age: 21, Major: Physics\n",
      "\n",
      "Keys in the students dictionary:\n",
      "dict_keys([101, 102, 103, 104, 105, 106])\n",
      "\n",
      "Dictionary after deleting Student ID 105:\n",
      "{101: 'Alice', 102: 'Bob', 103: 'Chuck', 104: 'David', 106: 'Frank'}\n"
     ]
    }
   ],
   "source": [
    "# 1.1 Creating a Dictionary with 5 Key-Value Pairs:\n",
    "students = {\n",
    "    101: \"Alice\",\n",
    "    102: \"Bob\",\n",
    "    103: \"Charlie\",\n",
    "    104: \"David\",\n",
    "    105: \"Eva\"\n",
    "}\n",
    "\n",
    "print(\"Original Dictionary:\")\n",
    "print(students)\n",
    "\n",
    "# 1.2 Adding Values to the Dictionary:\n",
    "students[106] = \"Frank\"\n",
    "print(\"\\nUpdated Dictionary after adding new entry:\")\n",
    "print(students)\n",
    "\n",
    "# 1.3 Updating Values in the Dictionary:\n",
    "students[103] = \"Chuck\"\n",
    "print(\"\\nUpdated Dictionary after modifying an entry:\")\n",
    "print(students)\n",
    "\n",
    "# 1.4 Accessing Values in the Dictionary:\n",
    "student_name = students[101]\n",
    "print(\"\\nAccessed Value for Student ID 101:\")\n",
    "print(student_name)\n",
    "\n",
    "# 1.5 Creating a Nested Dictionary:\n",
    "students_info = {\n",
    "    101: {\"name\": \"Alice\", \"age\": 20, \"major\": \"Computer Science\"},\n",
    "    102: {\"name\": \"Bob\", \"age\": 22, \"major\": \"Mathematics\"},\n",
    "    103: {\"name\": \"Charlie\", \"age\": 21, \"major\": \"Physics\"},\n",
    "    104: {\"name\": \"David\", \"age\": 23, \"major\": \"Chemistry\"},\n",
    "    105: {\"name\": \"Eva\", \"age\": 22, \"major\": \"Biology\"}\n",
    "}\n",
    "\n",
    "print(\"\\nNested Dictionary:\")\n",
    "print(students_info)\n",
    "\n",
    "# 1.6 Accessing Values from the Nested Dictionary:\n",
    "student_103_info = students_info[103]\n",
    "student_103_name = student_103_info[\"name\"]\n",
    "student_103_age = student_103_info[\"age\"]\n",
    "student_103_major = student_103_info[\"major\"]\n",
    "print(\"\\nAccessed Values for Student ID 103:\")\n",
    "print(f\"Name: {student_103_name}, Age: {student_103_age}, Major: {student_103_major}\")\n",
    "\n",
    "# 1.7 Print the Keys Present in a Dictionary:\n",
    "print(\"\\nKeys in the students dictionary:\")\n",
    "print(students.keys())\n",
    "\n",
    "# 1.8 Delete a Value from the Dictionary:\n",
    "del students[105]\n",
    "print(\"\\nDictionary after deleting Student ID 105:\")\n",
    "print(students)\n"
   ]
  },
  {
   "cell_type": "code",
   "execution_count": null,
   "id": "b3c8013e-9f1b-4ac9-bb25-312a44732c67",
   "metadata": {},
   "outputs": [],
   "source": []
  }
 ],
 "metadata": {
  "kernelspec": {
   "display_name": "Python 3 (ipykernel)",
   "language": "python",
   "name": "python3"
  },
  "language_info": {
   "codemirror_mode": {
    "name": "ipython",
    "version": 3
   },
   "file_extension": ".py",
   "mimetype": "text/x-python",
   "name": "python",
   "nbconvert_exporter": "python",
   "pygments_lexer": "ipython3",
   "version": "3.12.0"
  }
 },
 "nbformat": 4,
 "nbformat_minor": 5
}
