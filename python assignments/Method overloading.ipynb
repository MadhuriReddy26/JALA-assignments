{
 "cells": [
  {
   "cell_type": "code",
   "execution_count": 1,
   "id": "ced5c0a1-0630-40db-9b4d-a8e59cb79103",
   "metadata": {},
   "outputs": [
    {
     "name": "stdout",
     "output_type": "stream",
     "text": [
      "Method called with 1 argument: 5\n",
      "Method called with 2 arguments: 5 and 10\n",
      "Method called with an unsupported number of arguments.\n"
     ]
    }
   ],
   "source": [
    "#1. Write two methods with the same name but different number of parameters of same type \n",
    "#and call the methods\n",
    "class MyClass:\n",
    "    def my_method(self, *args):\n",
    "        if len(args) == 1:\n",
    "            print(f\"Method called with 1 argument: {args[0]}\")\n",
    "        elif len(args) == 2:\n",
    "            print(f\"Method called with 2 arguments: {args[0]} and {args[1]}\")\n",
    "        else:\n",
    "            print(\"Method called with an unsupported number of arguments.\")\n",
    "obj = MyClass()\n",
    "obj.my_method(5)      \n",
    "obj.my_method(5, 10)    \n",
    "obj.my_method(5, 10, 15) \n"
   ]
  },
  {
   "cell_type": "code",
   "execution_count": 3,
   "id": "b57ce619-c02a-450c-b5a1-549935eaf031",
   "metadata": {},
   "outputs": [
    {
     "name": "stdout",
     "output_type": "stream",
     "text": [
      "Method called with 1 integer argument: 5\n",
      "Method called with 1 string argument: Hello\n",
      "Method called with 1 integer and 1 string argument: 10 and World\n",
      "Method called with 1 string and 1 integer argument: Python and 20\n",
      "Method called with unsupported types\n"
     ]
    }
   ],
   "source": [
    "#2. Write two methods with the same name but different number of parameters of different \n",
    "#data type and call the methods\n",
    "class MyClass:\n",
    "    def my_method(self, *args):\n",
    "        if len(args) == 1:\n",
    "            if isinstance(args[0], int):\n",
    "                print(f\"Method called with 1 integer argument: {args[0]}\")\n",
    "            elif isinstance(args[0], str):\n",
    "                print(f\"Method called with 1 string argument: {args[0]}\")\n",
    "            else:\n",
    "                print(\"Method called with an unsupported data type\")\n",
    "        elif len(args) == 2:\n",
    "            if isinstance(args[0], int) and isinstance(args[1], str):\n",
    "                print(f\"Method called with 1 integer and 1 string argument: {args[0]} and {args[1]}\")\n",
    "            elif isinstance(args[0], str) and isinstance(args[1], int):\n",
    "                print(f\"Method called with 1 string and 1 integer argument: {args[0]} and {args[1]}\")\n",
    "            else:\n",
    "                print(\"Method called with unsupported types\")\n",
    "        else:\n",
    "            print(\"Method called with an unsupported number of arguments\")\n",
    "\n",
    "obj = MyClass()\n",
    "obj.my_method(5)             \n",
    "obj.my_method(\"Hello\")        \n",
    "obj.my_method(10, \"World\")  \n",
    "obj.my_method(\"Python\", 20)   \n",
    "obj.my_method(5, 10)         "
   ]
  },
  {
   "cell_type": "code",
   "execution_count": 5,
   "id": "feca3207-e10a-415c-82b8-658fd84c9d05",
   "metadata": {},
   "outputs": [
    {
     "name": "stdout",
     "output_type": "stream",
     "text": [
      "Method called with two integers: 5 and 10\n",
      "Result of adding two integers: 15\n",
      "Method called with two strings: Hello and World\n",
      "Result of concatenating two strings: Hello World\n",
      "Unsupported types or mismatched types!\n",
      "Result: None\n"
     ]
    }
   ],
   "source": [
    "#3. Write two methods with the same name and same number of parameters of same type\n",
    "class MyClass:\n",
    "    def my_method(self, x, y):\n",
    "        if isinstance(x, int) and isinstance(y, int):\n",
    "            print(f\"Method called with two integers: {x} and {y}\")\n",
    "            return x + y\n",
    "        elif isinstance(x, str) and isinstance(y, str):\n",
    "            print(f\"Method called with two strings: {x} and {y}\")\n",
    "            return x + \" \" + y\n",
    "        else:\n",
    "            print(\"Unsupported types or mismatched types!\")\n",
    "            return None\n",
    "obj = MyClass()\n",
    "result1 = obj.my_method(5, 10)     \n",
    "print(f\"Result of adding two integers: {result1}\")\n",
    "\n",
    "result2 = obj.my_method(\"Hello\", \"World\")  \n",
    "print(f\"Result of concatenating two strings: {result2}\")\n",
    "\n",
    "result3 = obj.my_method(5, \"Hello\")    \n",
    "print(f\"Result: {result3}\")\n"
   ]
  },
  {
   "cell_type": "code",
   "execution_count": null,
   "id": "ef2b3105-fcb7-4ac9-ba70-0f7c752c0b4c",
   "metadata": {},
   "outputs": [],
   "source": []
  }
 ],
 "metadata": {
  "kernelspec": {
   "display_name": "Python 3 (ipykernel)",
   "language": "python",
   "name": "python3"
  },
  "language_info": {
   "codemirror_mode": {
    "name": "ipython",
    "version": 3
   },
   "file_extension": ".py",
   "mimetype": "text/x-python",
   "name": "python",
   "nbconvert_exporter": "python",
   "pygments_lexer": "ipython3",
   "version": "3.12.0"
  }
 },
 "nbformat": 4,
 "nbformat_minor": 5
}
